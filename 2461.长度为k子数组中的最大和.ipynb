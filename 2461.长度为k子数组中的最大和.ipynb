{
 "cells": [
  {
   "cell_type": "code",
   "execution_count": 10,
   "metadata": {},
   "outputs": [],
   "source": [
    "def maximumSubarraySum(nums: list[int], k: int) -> int:\n",
    "    window = nums[:k]\n",
    "    result = sum(window) if len(set(window)) == k else 0\n",
    "    for in_, out in zip(nums[k:], nums):\n",
    "        window.append(in_)\n",
    "        window.remove(out)\n",
    "        if len(set(window)) == k:\n",
    "            result = max(result, sum(window))  \n",
    "    return result"
   ]
  },
  {
   "cell_type": "code",
   "execution_count": 19,
   "metadata": {},
   "outputs": [],
   "source": [
    "from collections import Counter\n",
    "def maximumSubarraySum(nums: list[int], k: int) -> int:\n",
    "    cnt = Counter(nums[:k])\n",
    "    temp = sum(nums[:k])\n",
    "    result = 0\n",
    "    for in_, out in zip(nums[k:], nums):\n",
    "        cnt[in_] += 1\n",
    "        cnt[out] -= 1\n",
    "        if cnt[out] == 0:\n",
    "            del cnt[out]\n",
    "        temp += in_ - out\n",
    "        if len(cnt) == k:\n",
    "            result = max(result, temp)\n",
    "    return result"
   ]
  },
  {
   "cell_type": "code",
   "execution_count": 18,
   "metadata": {},
   "outputs": [
    {
     "data": {
      "text/plain": [
       "15"
      ]
     },
     "execution_count": 18,
     "metadata": {},
     "output_type": "execute_result"
    }
   ],
   "source": [
    "nums = [1,5,4,2,9,9,9]\n",
    "k = 3\n",
    "# nums = [4,4,4]\n",
    "# k = 3\n",
    "maximumSubarraySum(nums, k)"
   ]
  }
 ],
 "metadata": {
  "kernelspec": {
   "display_name": "base",
   "language": "python",
   "name": "python3"
  },
  "language_info": {
   "codemirror_mode": {
    "name": "ipython",
    "version": 3
   },
   "file_extension": ".py",
   "mimetype": "text/x-python",
   "name": "python",
   "nbconvert_exporter": "python",
   "pygments_lexer": "ipython3",
   "version": "3.12.3"
  }
 },
 "nbformat": 4,
 "nbformat_minor": 2
}
