{
 "cells": [
  {
   "cell_type": "code",
   "execution_count": 25,
   "metadata": {},
   "outputs": [],
   "source": [
    "# 不要老纠结于中心点, 以右端点的角度出发去思考问题\n",
    "def getAverages(nums: list[int], k: int) -> list[int]:\n",
    "    mark=0\n",
    "    n=len(nums)\n",
    "    avgs=[-1]*n\n",
    "    for i in range(n):\n",
    "        mark+=nums[i]\n",
    "        # 只有当右端点到达nums[2k]的时候, 中心点才能被计算出来\n",
    "        if i<2*k:\n",
    "            continue\n",
    "        avgs[i-k]=mark//(2*k+1) \n",
    "        mark-=nums[i-2*k]\n",
    "    return avgs"
   ]
  },
  {
   "cell_type": "code",
   "execution_count": 24,
   "metadata": {},
   "outputs": [
    {
     "data": {
      "text/plain": [
       "[-1, -1, -1, 5, 4, 4, -1, -1, -1]"
      ]
     },
     "execution_count": 24,
     "metadata": {},
     "output_type": "execute_result"
    }
   ],
   "source": [
    "nums = [7,4,3,9,1,8,5,2,6]\n",
    "k = 3\n",
    "getAverages(nums,k)"
   ]
  }
 ],
 "metadata": {
  "kernelspec": {
   "display_name": "base",
   "language": "python",
   "name": "python3"
  },
  "language_info": {
   "codemirror_mode": {
    "name": "ipython",
    "version": 3
   },
   "file_extension": ".py",
   "mimetype": "text/x-python",
   "name": "python",
   "nbconvert_exporter": "python",
   "pygments_lexer": "ipython3",
   "version": "3.10.10"
  }
 },
 "nbformat": 4,
 "nbformat_minor": 2
}
