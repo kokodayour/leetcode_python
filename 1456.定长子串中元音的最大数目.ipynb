{
 "cells": [
  {
   "cell_type": "code",
   "execution_count": 4,
   "metadata": {},
   "outputs": [],
   "source": [
    "# 暴力解法\n",
    "def maxVowels(s: str, k: int) -> int:\n",
    "    vowels = 'aeiou'\n",
    "    ans = 0\n",
    "    for left in range(0, len(s)):\n",
    "        elem = s[left:left+k]\n",
    "        ans = max(ans, sum([1 for i in elem if i in vowels]))\n",
    "    return ans"
   ]
  },
  {
   "cell_type": "code",
   "execution_count": 26,
   "metadata": {},
   "outputs": [],
   "source": [
    "# 每次判断窗口两侧是否为元音\n",
    "def maxVowels(s, k):\n",
    "    vowels = 'aeiou'\n",
    "    left = s[0]\n",
    "    ans = temp = sum([1 for i in s[0:k] if i in vowels])\n",
    "    for i in range(1, len(s)-k+1):\n",
    "        # left是上次窗口的左侧元素, s[i+k-1]是这次窗口的右侧元素\n",
    "        # 也就是看走的和新加的是不是元音, 四种情况有两种不改变结局\n",
    "        if left not in vowels and s[i+k-1] in vowels:\n",
    "            temp += 1\n",
    "        if left in vowels and s[i+k-1] not in vowels:\n",
    "            temp -= 1\n",
    "        left = s[i]\n",
    "        ans = max(ans, temp)\n",
    "    return ans"
   ]
  },
  {
   "cell_type": "code",
   "execution_count": 27,
   "metadata": {},
   "outputs": [
    {
     "data": {
      "text/plain": [
       "3"
      ]
     },
     "execution_count": 27,
     "metadata": {},
     "output_type": "execute_result"
    }
   ],
   "source": [
    "s = \"abciiidef\"\n",
    "k = 3\n",
    "# s = \"aeiou\"\n",
    "# k = 2\n",
    "maxVowels(s, k)"
   ]
  }
 ],
 "metadata": {
  "kernelspec": {
   "display_name": "base",
   "language": "python",
   "name": "python3"
  },
  "language_info": {
   "codemirror_mode": {
    "name": "ipython",
    "version": 3
   },
   "file_extension": ".py",
   "mimetype": "text/x-python",
   "name": "python",
   "nbconvert_exporter": "python",
   "pygments_lexer": "ipython3",
   "version": "3.10.10"
  }
 },
 "nbformat": 4,
 "nbformat_minor": 2
}
