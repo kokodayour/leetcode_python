{
 "cells": [
  {
   "cell_type": "code",
   "execution_count": 14,
   "metadata": {},
   "outputs": [],
   "source": [
    "# 也可视作滑动窗口问题 不过不是向右滑 而是向左滑\n",
    "def maxScore(cardPoints: list[int], k: int) -> int:\n",
    "    ans = temp = sum(cardPoints[:k])\n",
    "    for i in range(k):\n",
    "        temp += cardPoints[-i-1] - cardPoints[k-i-1]\n",
    "        ans = max(ans, temp)\n",
    "    return ans"
   ]
  },
  {
   "cell_type": "code",
   "execution_count": null,
   "metadata": {},
   "outputs": [],
   "source": [
    "# 逆向思维 拿到的点数最大 剩下的点数最小\n",
    "def maxScore(cardPoints:list[int], k:int) -> int:\n",
    "    ptr = len(cardPoints)-k\n",
    "    ans = temp = sum(cardPoints[:ptr])\n",
    "    for in_, out in zip(cardPoints[ptr:], cardPoints):\n",
    "        temp += in_ - out\n",
    "        ans = min(ans, temp)\n",
    "    return sum(cardPoints) - ans"
   ]
  },
  {
   "cell_type": "code",
   "execution_count": 15,
   "metadata": {},
   "outputs": [
    {
     "data": {
      "text/plain": [
       "12"
      ]
     },
     "execution_count": 15,
     "metadata": {},
     "output_type": "execute_result"
    }
   ],
   "source": [
    "cardPoints = [1,2,3,4,5,6,1]\n",
    "k = 3\n",
    "maxScore(cardPoints, k)"
   ]
  }
 ],
 "metadata": {
  "kernelspec": {
   "display_name": "base",
   "language": "python",
   "name": "python3"
  },
  "language_info": {
   "codemirror_mode": {
    "name": "ipython",
    "version": 3
   },
   "file_extension": ".py",
   "mimetype": "text/x-python",
   "name": "python",
   "nbconvert_exporter": "python",
   "pygments_lexer": "ipython3",
   "version": "3.12.3"
  }
 },
 "nbformat": 4,
 "nbformat_minor": 2
}
