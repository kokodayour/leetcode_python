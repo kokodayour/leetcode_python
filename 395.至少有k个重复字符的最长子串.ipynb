{
 "cells": [
  {
   "cell_type": "code",
   "execution_count": null,
   "metadata": {},
   "outputs": [],
   "source": [
    "# 分治算法 若字符串s中字符c出现的次数小于k 则所有包含字符c的子串都不满足条件\n",
    "# 将字符串按照字符c切分成若干串 满足条件的子串一定位于被切分的某个段内\n",
    "def longestSubstring(s, k):\n",
    "    if len(s) < k:\n",
    "        return 0\n",
    "    for c in set(s):\n",
    "        if s.count(c) < k:\n",
    "            return max(longestSubstring(t, k) for t in s.split(c))\n",
    "    return len(s)"
   ]
  },
  {
   "cell_type": "code",
   "execution_count": 1,
   "metadata": {},
   "outputs": [],
   "source": [
    "# 哈希计数 + 不定长窗口\n",
    "# 字符总共只有26个 子串的长度位于区间[1, len(set(s1))] \n",
    "# 可以滑动包含不同字母数量的窗口 即窗口中可能包含1个元素 2个元素…… \n",
    "# 将不定长窗口问题转为定长窗口问题 不过这里的定长指的是窗口的元素个数\"定长\"\n",
    "from collections import Counter\n",
    "def longestSubstring(s, k):\n",
    "    if k == 1:\n",
    "        return len(s)\n",
    "    ans = 0\n",
    "    for c in range(1, len(set(s))+1):\n",
    "        # 统计每个字符出现的频次\n",
    "        freq = Counter()\n",
    "        # l是滑窗的左元素 cnt是子串中出现但频次不够k的字符的个数\n",
    "        l = cnt = letter_cnt = 0\n",
    "        for r, ch in enumerate(s):\n",
    "            if freq[ch] == 0:\n",
    "                cnt += 1\n",
    "                letter_cnt += 1\n",
    "            if freq[ch] == k-1:\n",
    "                cnt -= 1\n",
    "            freq[ch] += 1\n",
    "            \n",
    "            # 当滑窗中字母种类个数超过正在遍历的c 需要缩短左窗口\n",
    "            while letter_cnt > c:\n",
    "                lch = s[l] # 窗口左端元素\n",
    "                # 当滑窗左端元素满足k个 但划走就不满足k个k个了\n",
    "                if freq[lch] == k:\n",
    "                    cnt += 1\n",
    "                if freq[lch] == 1:\n",
    "                    letter_cnt -= 1\n",
    "                    cnt -= 1\n",
    "                freq[lch] -= 1\n",
    "                l += 1\n",
    "            # 当滑窗中字母种类个数为正在遍历的c 且无个数不为k的元素即满足条件\n",
    "            if letter_cnt == c and cnt == 0:\n",
    "                ans = max(ans, r-l+1)\n",
    "    return ans"
   ]
  },
  {
   "cell_type": "code",
   "execution_count": 3,
   "metadata": {},
   "outputs": [],
   "source": [
    "def longestSubstring(s1: str, k: int) -> int:\n",
    "    if k == 1: return len(s1)\n",
    "    n = len(s1)\n",
    "    res = 0\n",
    "    for c in range(1, len(set(s1)) + 1):\n",
    "        # 滑窗中字母种类个数恰好为 c\n",
    "        freq = Counter()\n",
    "        l = cnt = tcnt = 0    \n",
    "        for r, ch in enumerate(s1):\n",
    "            if freq[ch] == 0:\n",
    "                cnt += 1\n",
    "                tcnt += 1\n",
    "            if freq[ch] == k - 1:\n",
    "                cnt -= 1\n",
    "            freq[ch] += 1\n",
    "            \n",
    "            while tcnt > c:\n",
    "                lch = s1[l]\n",
    "                if freq[lch] == k: \n",
    "                    cnt += 1\n",
    "                if freq[lch] == 1:\n",
    "                    tcnt -= 1\n",
    "                    cnt -= 1\n",
    "                freq[lch] -= 1\n",
    "                l += 1\n",
    "            if tcnt == c and cnt == 0:\n",
    "                res = max(res, r - l + 1)\n",
    "    return res "
   ]
  },
  {
   "cell_type": "code",
   "execution_count": 4,
   "metadata": {},
   "outputs": [
    {
     "data": {
      "text/plain": [
       "5"
      ]
     },
     "execution_count": 4,
     "metadata": {},
     "output_type": "execute_result"
    }
   ],
   "source": [
    "s = \"ababbc\"\n",
    "k = 2\n",
    "longestSubstring(s, k)"
   ]
  }
 ],
 "metadata": {
  "kernelspec": {
   "display_name": "base",
   "language": "python",
   "name": "python3"
  },
  "language_info": {
   "codemirror_mode": {
    "name": "ipython",
    "version": 3
   },
   "file_extension": ".py",
   "mimetype": "text/x-python",
   "name": "python",
   "nbconvert_exporter": "python",
   "pygments_lexer": "ipython3",
   "version": "3.12.3"
  }
 },
 "nbformat": 4,
 "nbformat_minor": 2
}
