{
 "cells": [
  {
   "cell_type": "code",
   "execution_count": 1,
   "metadata": {},
   "outputs": [],
   "source": [
    "class ListNode:\n",
    "    def __init__(self, val = 0, next = None) -> None:\n",
    "        self.val = val\n",
    "        self.next = next"
   ]
  },
  {
   "cell_type": "code",
   "execution_count": 4,
   "metadata": {},
   "outputs": [],
   "source": [
    "def mergelist(list1:ListNode, list2:ListNode)->ListNode:\n",
    "    ans: ListNode = ListNode(0)\n",
    "    ptr = ans\n",
    "    while list1 and list2:\n",
    "        if list1.val <= list2.val:\n",
    "            ptr.next = list1\n",
    "            list1 = list1.next\n",
    "        else:\n",
    "            ptr.next = list2\n",
    "            list2 = list2.next\n",
    "        ptr = ptr.next\n",
    "    ptr.next = list1 if list1 else list2\n",
    "    return ans.next"
   ]
  }
 ],
 "metadata": {
  "kernelspec": {
   "display_name": "base",
   "language": "python",
   "name": "python3"
  },
  "language_info": {
   "codemirror_mode": {
    "name": "ipython",
    "version": 3
   },
   "file_extension": ".py",
   "mimetype": "text/x-python",
   "name": "python",
   "nbconvert_exporter": "python",
   "pygments_lexer": "ipython3",
   "version": "3.10.10"
  }
 },
 "nbformat": 4,
 "nbformat_minor": 2
}
