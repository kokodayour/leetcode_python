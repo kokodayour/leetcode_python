{
 "cells": [
  {
   "cell_type": "code",
   "execution_count": 30,
   "metadata": {},
   "outputs": [],
   "source": [
    "def minFlips(s: str) -> int:\n",
    "    # 偶数和 奇数和\n",
    "    even = sum(int(i) for i in list(s[::2]))\n",
    "    odd = sum(int(i) for i in list(s[1::2]))\n",
    "    n = len(s)\n",
    "    if n%2 == 0:\n",
    "        return n//2-abs(even-odd)\n",
    "    else:\n",
    "        temp = 0\n",
    "        ans = n\n",
    "        for i in range(n):\n",
    "            odd, even = even-int(s[i]), odd+int(s[i])\n",
    "            temp = (n+1)//2 - abs(even-odd)\n",
    "            if odd >= even:\n",
    "                temp -= 1\n",
    "            ans = min(ans, temp)\n",
    "        return ans"
   ]
  },
  {
   "cell_type": "code",
   "execution_count": 28,
   "metadata": {},
   "outputs": [],
   "source": [
    "# 只需要检查s与1010…和0101…的循环同构串中哪个不同字母最少\n",
    "# 若s长度为偶数 则循环同构串只有1010…和0101…两种情况\n",
    "# 若s长度为奇数 则循环同构串中间会出现11或00 如1011010 通过一类操作将11或者00断开\n",
    "# 所以只需要找00或11(假设i i+1)的位置 然后保证[0:i]是交替字符串 [i+1:len]也是交替字符串\n",
    "# 这里注意到s[0]与s[len]不能一样 如果s[0]和s[len]相同的话 经过一类操作s[0]与s[len]相同元素会连在一起\n",
    "def minFlips(s):\n",
    "    n = len(s)\n",
    "    ans = n\n",
    "    # 枚举开头是 0 还是 1\n",
    "    for head in ['0', '1']:\n",
    "        # 左边每个位置的不同字母个数\n",
    "        leftDiff = []\n",
    "        diff = 0\n",
    "        for i in range(len(s)):\n",
    "            if s[i]!= str(int(head) ^ (i & 1)):\n",
    "                diff += 1\n",
    "            leftDiff.append(diff)\n",
    "        # 右边每个位置的不同字母个数\n",
    "        tail = str(int(head) ^ 1)\n",
    "        diff = 0\n",
    "        for i in range(n - 1, -1, -1):\n",
    "            # 左边+右边即为整个字符串的不同字母个数，取最小值\n",
    "            ans = min(ans, leftDiff[i] + diff)\n",
    "            if s[i]!= str(int(tail) ^ ((n - 1 - i) & 1)):\n",
    "                diff += 1\n",
    "    return ans"
   ]
  },
  {
   "cell_type": "code",
   "execution_count": 32,
   "metadata": {},
   "outputs": [],
   "source": [
    "# 断环成链 一类操作相当于向右移动窗口\n",
    "# 类型1与类型2的操作顺序与最终答案无关 只与操作次数有关\n",
    "# 按照01检测时需要修改的次数 用len减去就是按照10检测时修改的次数\n",
    "def minFlips(s):\n",
    "    n = len(s)\n",
    "    target = \"01\"\n",
    "    # 计算初始的翻转次数\n",
    "    cnt = 0\n",
    "    for i in range(n):\n",
    "        cnt += (s[i]!=target[i%2])\n",
    "    # 初始答案为cnt和len-cnt的最小值\n",
    "    ans = min(cnt, n-cnt)\n",
    "    for i in range(n):\n",
    "        # 移除当前字符对cnt的影响\n",
    "        cnt -= (s[i] != target[i%2])\n",
    "        # 添加当前字符到窗口末尾的影响\n",
    "        cnt += (s[i] != target[i+n]%2)\n",
    "        # 更新答案\n",
    "        ans = min(ans, cnt, n-cnt)\n",
    "    return ans"
   ]
  },
  {
   "cell_type": "code",
   "execution_count": null,
   "metadata": {},
   "outputs": [],
   "source": [
    "def minFlips(s):\n",
    "    target = '01'\n",
    "    n, cnt = len(s), 0\n",
    "    for i in range(n):\n",
    "        if s[i] != target[i%2]:\n",
    "            cnt += 1\n",
    "    min_v = min(cnt, n-cnt)\n",
    "    # 当n是偶数的时候\n",
    "    if n%2 == 0:\n",
    "        return min_v\n",
    "    # 当n是奇数的时候 下一个要遍历的元素是s[i+n]等同于s[i] 如果前面是0101… 后面必须是1010…\n",
    "    for i in range(n):\n",
    "        # 添加当前字符到窗口末尾的影响\n",
    "        if s[i] == target[i%2]:\n",
    "            cnt += 1\n",
    "        # 移除当前字符对cnt的影响\n",
    "        else: \n",
    "            cnt -= 1\n",
    "        min_v = min(min_v, cnt, n-cnt)\n",
    "    return min_v"
   ]
  },
  {
   "cell_type": "code",
   "execution_count": null,
   "metadata": {},
   "outputs": [],
   "source": [
    "s = \"01011100\"\n",
    "minFlips(s)"
   ]
  }
 ],
 "metadata": {
  "kernelspec": {
   "display_name": "base",
   "language": "python",
   "name": "python3"
  },
  "language_info": {
   "codemirror_mode": {
    "name": "ipython",
    "version": 3
   },
   "file_extension": ".py",
   "mimetype": "text/x-python",
   "name": "python",
   "nbconvert_exporter": "python",
   "pygments_lexer": "ipython3",
   "version": "3.12.3"
  }
 },
 "nbformat": 4,
 "nbformat_minor": 2
}
