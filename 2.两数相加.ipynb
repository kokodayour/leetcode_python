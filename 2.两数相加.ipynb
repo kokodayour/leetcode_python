{
 "cells": [
  {
   "cell_type": "code",
   "execution_count": null,
   "metadata": {},
   "outputs": [],
   "source": [
    "# Definition for singly-linked list.\n",
    "class ListNode:\n",
    "    def __init__(self, val=0, next=None):\n",
    "        self.val = val\n",
    "        self.next = next"
   ]
  },
  {
   "cell_type": "code",
   "execution_count": null,
   "metadata": {},
   "outputs": [],
   "source": [
    "def complement(l1, l2):\n",
    "    diff_length = len(l1) - len(l2)\n",
    "    if diff_length > 0:\n",
    "        l2.extend([0] * diff_length)\n",
    "    elif diff_length < 0:\n",
    "        l1.extend([0] * abs(diff_length))\n",
    "    return l1,l2\n",
    "\n",
    "def complement1(l1,l2):\n",
    "    diff_length = len(l1) - len(l2)\n",
    "    l2.extend([0] * max(0, diff_length))\n",
    "    l1.extend([0] * max(0, -diff_length))\n",
    "    return l1,l2\n",
    "\n",
    "def addTwoNumbers(l1, l2):\n",
    "    l1, l2 = complement1(l1, l2)\n",
    "    extra = 0\n",
    "    result= [0]*len(l1)\n",
    "    for index, (num1, num2) in enumerate(zip(l1, l2)):\n",
    "        if (sum:=extra + num1 + num2) > 9:\n",
    "            extra = 1\n",
    "            result[index] = sum-10\n",
    "        else:\n",
    "            extra = 0\n",
    "            result[index] = sum\n",
    "    if extra == 1:\n",
    "        result.append(1)\n",
    "    return result"
   ]
  },
  {
   "cell_type": "code",
   "execution_count": 24,
   "metadata": {},
   "outputs": [],
   "source": [
    "def addTwoNumbers(l1,l2):\n",
    "    num1 = int(''.join(map(str, l1[::-1])))\n",
    "    num2 = int(''.join(map(str, l2[::-1])))\n",
    "    sum = str(num1 + num2)\n",
    "    result = []\n",
    "    for s in sum:\n",
    "        result.insert(0, int(s))\n",
    "    return result"
   ]
  },
  {
   "cell_type": "code",
   "execution_count": null,
   "metadata": {},
   "outputs": [],
   "source": [
    "def addTwoNumbers(l1, l2):\n",
    "    carry = 0\n",
    "    result = []\n",
    "    while l1 or l2 or carry:\n",
    "        # 获取当前位置的数字并相加\n",
    "        num1 = l1.pop(0) if l1 else 0\n",
    "        num2 = l2.pop(0) if l2 else 0\n",
    "        total = num1 + num2 + carry\n",
    "        # 计算进位和当前位置的值 divmod返回商和余数\n",
    "        carry, digit = divmod(total, 10)\n",
    "        result.append(digit)    \n",
    "    return result"
   ]
  },
  {
   "cell_type": "code",
   "execution_count": null,
   "metadata": {},
   "outputs": [],
   "source": [
    "def addTwoNumbers(l1:ListNode,l2:ListNode) ->ListNode:\n",
    "    carry = 0\n",
    "    result =  p = ListNode(None)\n",
    "    while l1 or l2 or carry:\n",
    "        # 获取当前位置的数字并相加\n",
    "        total = (l1.val if l1 else 0) + (l2.val if l2 else 0) + carry\n",
    "        # 计算进位和当前位置的值 divmod返回商和余数\n",
    "        carry, digit = divmod(total, 10)\n",
    "        p.next = ListNode(digit)\n",
    "        p = p.next\n",
    "        l1 = l1.next if l1 else None\n",
    "        l2 = l2.next if l2 else None\n",
    "    return result.next"
   ]
  },
  {
   "cell_type": "code",
   "execution_count": 25,
   "metadata": {},
   "outputs": [
    {
     "data": {
      "text/plain": [
       "[7, 0, 8]"
      ]
     },
     "execution_count": 25,
     "metadata": {},
     "output_type": "execute_result"
    }
   ],
   "source": [
    "l1 = [2,4,3]\n",
    "l2 = [5,6,4]\n",
    "addTwoNumbers(l1,l2)"
   ]
  }
 ],
 "metadata": {
  "kernelspec": {
   "display_name": "base",
   "language": "python",
   "name": "python3"
  },
  "language_info": {
   "codemirror_mode": {
    "name": "ipython",
    "version": 3
   },
   "file_extension": ".py",
   "mimetype": "text/x-python",
   "name": "python",
   "nbconvert_exporter": "python",
   "pygments_lexer": "ipython3",
   "version": "3.10.10"
  }
 },
 "nbformat": 4,
 "nbformat_minor": 2
}
