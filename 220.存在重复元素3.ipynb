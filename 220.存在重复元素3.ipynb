{
 "cells": [
  {
   "cell_type": "code",
   "execution_count": 5,
   "metadata": {},
   "outputs": [],
   "source": [
    "# 双指针解法 但是失败了 失败用例参数[1,2,1,1] 1 0\n",
    "# 原因在于当左右指针指向的数相同时不知道该移动哪根指针 如果这时候移动左指针则可以通过 但反之不行\n",
    "def containsNearbyAlmostDuplicate(nums: list[int], indexDiff: int, valueDiff: int) -> bool:\n",
    "    left, right = 0, len(nums) - 1\n",
    "    while(right - left > indexDiff or abs(nums[right] - nums[left]) > valueDiff):\n",
    "        if nums[left] > nums[right]:\n",
    "            left += 1\n",
    "        else:\n",
    "            right -= 1\n",
    "        if right == left:\n",
    "            return False\n",
    "    return True"
   ]
  },
  {
   "cell_type": "code",
   "execution_count": 10,
   "metadata": {},
   "outputs": [],
   "source": [
    "\n",
    "def containsNearbyAlmostDuplicate(nums: list[int], indexDiff: int, valueDiff: int) -> bool:\n",
    "    left, right = 0, indexDiff+1\n",
    "    cnt = len(nums)\n",
    "    if indexDiff >= cnt:\n",
    "        nums.sort()\n",
    "        for i in range(cnt-1):\n",
    "            if abs(nums[i+1] - nums[i]) <= valueDiff:\n",
    "                return True\n",
    "    while right <= cnt:\n",
    "        windows = nums[left:right]\n",
    "        windows.sort()\n",
    "        for i in range(indexDiff):\n",
    "            if abs(windows[i+1] - windows[i]) <= valueDiff:\n",
    "                return True\n",
    "        right += 1\n",
    "        left += 1\n",
    "    return False"
   ]
  },
  {
   "cell_type": "code",
   "execution_count": 11,
   "metadata": {},
   "outputs": [
    {
     "ename": "ModuleNotFoundError",
     "evalue": "No module named 'sortedcontainers'",
     "output_type": "error",
     "traceback": [
      "\u001b[1;31m---------------------------------------------------------------------------\u001b[0m",
      "\u001b[1;31mModuleNotFoundError\u001b[0m                       Traceback (most recent call last)",
      "Cell \u001b[1;32mIn[11], line 1\u001b[0m\n\u001b[1;32m----> 1\u001b[0m \u001b[38;5;28;01mfrom\u001b[39;00m \u001b[38;5;21;01msortedcontainers\u001b[39;00m \u001b[38;5;28;01mimport\u001b[39;00m sortedList\n",
      "\u001b[1;31mModuleNotFoundError\u001b[0m: No module named 'sortedcontainers'"
     ]
    }
   ],
   "source": [
    "from sortedcontainers import sortedList"
   ]
  },
  {
   "cell_type": "code",
   "execution_count": 9,
   "metadata": {},
   "outputs": [
    {
     "data": {
      "text/plain": [
       "True"
      ]
     },
     "execution_count": 9,
     "metadata": {},
     "output_type": "execute_result"
    }
   ],
   "source": [
    "# nums = [1,5,9,1,5,9]\n",
    "# indexDiff = 2\n",
    "# valueDiff = 3\n",
    "nums = [1,2,3,1]\n",
    "indexDiff = 3\n",
    "valueDiff = 0\n",
    "containsNearbyAlmostDuplicate(nums, indexDiff, valueDiff)"
   ]
  },
  {
   "cell_type": "code",
   "execution_count": 2,
   "metadata": {},
   "outputs": [
    {
     "data": {
      "text/plain": [
       "[2, 3]"
      ]
     },
     "execution_count": 2,
     "metadata": {},
     "output_type": "execute_result"
    }
   ],
   "source": [
    "a = [1,2,3]\n",
    "b = a\n",
    "b.pop(0)\n",
    "a"
   ]
  }
 ],
 "metadata": {
  "kernelspec": {
   "display_name": "base",
   "language": "python",
   "name": "python3"
  },
  "language_info": {
   "codemirror_mode": {
    "name": "ipython",
    "version": 3
   },
   "file_extension": ".py",
   "mimetype": "text/x-python",
   "name": "python",
   "nbconvert_exporter": "python",
   "pygments_lexer": "ipython3",
   "version": "3.10.10"
  }
 },
 "nbformat": 4,
 "nbformat_minor": 2
}
