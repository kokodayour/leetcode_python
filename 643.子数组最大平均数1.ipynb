{
 "cells": [
  {
   "cell_type": "code",
   "execution_count": 2,
   "metadata": {},
   "outputs": [],
   "source": [
    "def findMaxAverage(nums: list[int], k: int) -> float:\n",
    "    ans = temp = sum(nums[:k])\n",
    "    # for i in range(1, len(nums)-k+1):\n",
    "    #     temp = temp + nums[i+k-1] - nums[i-1]\n",
    "    #     ans = max(ans, temp)\n",
    "    # 还是对右指针进行移动比较直观\n",
    "    for i in range(k, len(nums)):\n",
    "        temp = temp + nums[i] - nums[i-k]\n",
    "        ans = max(ans, temp)\n",
    "    return ans/k"
   ]
  },
  {
   "cell_type": "code",
   "execution_count": 5,
   "metadata": {},
   "outputs": [
    {
     "data": {
      "text/plain": [
       "5.0"
      ]
     },
     "execution_count": 5,
     "metadata": {},
     "output_type": "execute_result"
    }
   ],
   "source": [
    "nums = [1,12,-5,-6,50,3]\n",
    "k = 4\n",
    "nums = [5]\n",
    "k = 1\n",
    "findMaxAverage(nums,k)"
   ]
  }
 ],
 "metadata": {
  "kernelspec": {
   "display_name": "base",
   "language": "python",
   "name": "python3"
  },
  "language_info": {
   "codemirror_mode": {
    "name": "ipython",
    "version": 3
   },
   "file_extension": ".py",
   "mimetype": "text/x-python",
   "name": "python",
   "nbconvert_exporter": "python",
   "pygments_lexer": "ipython3",
   "version": "3.10.10"
  }
 },
 "nbformat": 4,
 "nbformat_minor": 2
}
