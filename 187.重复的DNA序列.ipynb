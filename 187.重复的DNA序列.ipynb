{
 "cells": [
  {
   "cell_type": "code",
   "execution_count": 12,
   "metadata": {},
   "outputs": [],
   "source": [
    "def findRepeatedDnaSequences(s: str) -> list[str]:\n",
    "    elem_occur = {}\n",
    "    for i in range(0, len(s) - 10):\n",
    "        elem = s[i:i+10]\n",
    "        elem_occur[elem] = elem_occur.get(elem, 0) + 1\n",
    "    return [key for key, value in elem_occur.items() if value > 1]"
   ]
  },
  {
   "cell_type": "code",
   "execution_count": 14,
   "metadata": {},
   "outputs": [],
   "source": [
    "def findRepeatedDnaSequences(s):\n",
    "    elem_occur = {}\n",
    "    result = set()\n",
    "    for i in range(len(s)-9):\n",
    "        if s[i:i+10] in elem_occur:\n",
    "            result.add(s[i:i+10])\n",
    "        else:\n",
    "            elem_occur[s[i:i+10]] = 1\n",
    "    return list(result)"
   ]
  },
  {
   "cell_type": "code",
   "execution_count": 13,
   "metadata": {},
   "outputs": [
    {
     "data": {
      "text/plain": [
       "['AAAAACCCCC', 'CCCCCAAAAA']"
      ]
     },
     "execution_count": 13,
     "metadata": {},
     "output_type": "execute_result"
    }
   ],
   "source": [
    "s = \"AAAAACCCCCAAAAACCCCCCAAAAAGGGTTT\"\n",
    "findRepeatedDnaSequences(s)"
   ]
  }
 ],
 "metadata": {
  "kernelspec": {
   "display_name": "base",
   "language": "python",
   "name": "python3"
  },
  "language_info": {
   "codemirror_mode": {
    "name": "ipython",
    "version": 3
   },
   "file_extension": ".py",
   "mimetype": "text/x-python",
   "name": "python",
   "nbconvert_exporter": "python",
   "pygments_lexer": "ipython3",
   "version": "3.10.10"
  }
 },
 "nbformat": 4,
 "nbformat_minor": 2
}
