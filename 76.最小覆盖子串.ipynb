{
 "cells": [
  {
   "cell_type": "code",
   "execution_count": null,
   "metadata": {},
   "outputs": [],
   "source": [
    "from collections import Counter\n",
    "def minWindow(s: str, t: str) -> str:\n",
    "    ans_left, ans_right = -1, len(s)\n",
    "    # s子串字母的出现次数\n",
    "    cnt_s = Counter()\n",
    "    # t中字母的出现次数\n",
    "    cnt_t = Counter(t)\n",
    "\n",
    "    left = 0\n",
    "    for right, c in enumerate(s):\n",
    "        cnt_s[c] += 1\n",
    "        while cnt_s>=cnt_t: # 涵盖\n",
    "            if right - left < ans_right - ans_left:\n",
    "                ans_left, ans_right = left, right\n",
    "            cnt_s[s[left]] -= 1\n",
    "            left += 1\n",
    "    return \"\" if ans_left<0 else s[ans_left:ans_right+1]"
   ]
  },
  {
   "cell_type": "code",
   "execution_count": null,
   "metadata": {},
   "outputs": [],
   "source": [
    "from collections import defaultdict\n",
    "\n",
    "def minWindow(s, t):\n",
    "    ans_left, ans_right = -1, len(s)\n",
    "    cnt = defaultdict(int)  # 比 Counter 更快\n",
    "    for c in t:\n",
    "        cnt[c] += 1\n",
    "    less = len(cnt)  # 有 less 种字母的出现次数 < t 中的字母出现次数\n",
    "\n",
    "    left = 0\n",
    "    for right, c in enumerate(s):  # 移动子串右端点\n",
    "        cnt[c] -= 1  # 右端点字母移入子串\n",
    "        if cnt[c] == 0:\n",
    "            # 原来窗口内 c 的出现次数比 t 的少，现在一样多\n",
    "            less -= 1\n",
    "        while less == 0:  # 涵盖：所有字母的出现次数都是 >=\n",
    "            if right - left < ans_right - ans_left:  # 找到更短的子串\n",
    "                ans_left, ans_right = left, right  # 记录此时的左右端点\n",
    "            x = s[left]  # 左端点字母\n",
    "            if cnt[x] == 0:\n",
    "                # x 移出窗口之前，检查出现次数，\n",
    "                # 如果窗口内 x 的出现次数和 t 一样，\n",
    "                # 那么 x 移出窗口后，窗口内 x 的出现次数比 t 的少\n",
    "                less += 1\n",
    "            cnt[x] += 1  # 左端点字母移出子串\n",
    "            left += 1\n",
    "    return \"\" if ans_left < 0 else s[ans_left: ans_right + 1]"
   ]
  },
  {
   "cell_type": "code",
   "execution_count": 31,
   "metadata": {},
   "outputs": [
    {
     "data": {
      "text/plain": [
       "'BANC'"
      ]
     },
     "execution_count": 31,
     "metadata": {},
     "output_type": "execute_result"
    }
   ],
   "source": [
    "s = \"ADOBECODEBANC\"\n",
    "t = \"ABC\"\n",
    "# s = \"a\"\n",
    "# t = \"aa\"\n",
    "minWindow(s, t)"
   ]
  }
 ],
 "metadata": {
  "kernelspec": {
   "display_name": "base",
   "language": "python",
   "name": "python3"
  },
  "language_info": {
   "codemirror_mode": {
    "name": "ipython",
    "version": 3
   },
   "file_extension": ".py",
   "mimetype": "text/x-python",
   "name": "python",
   "nbconvert_exporter": "python",
   "pygments_lexer": "ipython3",
   "version": "3.12.3"
  }
 },
 "nbformat": 4,
 "nbformat_minor": 2
}
