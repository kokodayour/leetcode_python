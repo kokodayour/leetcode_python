{
 "cells": [
  {
   "cell_type": "code",
   "execution_count": 43,
   "metadata": {},
   "outputs": [],
   "source": [
    "# 不定长滑动窗口问题\n",
    "# 错误思路: 每次循环都要移动右指针 但当right指向数组末端的时候 还可以移动左指针得到解\n",
    "def maxFreq(s: str, maxLetters: int, minSize: int, maxSize: int) -> int:\n",
    "    substring = {}\n",
    "    cnt = {}\n",
    "    left = 0\n",
    "    for right in range(len(s)):\n",
    "        cnt[s[right]] = cnt.get(s[right],0) + 1\n",
    "        while len(cnt) > maxLetters or right - left > maxSize - 1:\n",
    "            cnt[s[left]] -= 1\n",
    "            if cnt[s[left]] == 0:\n",
    "                del cnt[s[left]]\n",
    "            left += 1\n",
    "        if right - left < minSize - 1:\n",
    "            continue\n",
    "        substring[s[left: right+1]] = substring.get(s[left: right+1],0) + 1\n",
    "    return max(substring.values())\n"
   ]
  },
  {
   "cell_type": "code",
   "execution_count": 55,
   "metadata": {},
   "outputs": [],
   "source": [
    "# 错误思路: 先获得最大窗口 再不断地移动左指针得到解 但如果这时移动右指针可以得到新的解\n",
    "def maxFreq(s: str, maxLetters: int, minSize: int, maxSize: int) -> int:\n",
    "    substring = {}\n",
    "    cnt = {}\n",
    "    left = 0\n",
    "    for right in range(len(s)):\n",
    "        cnt[s[right]] = cnt.get(s[right], 0) + 1  \n",
    "        if right - left != maxSize-1:\n",
    "            continue\n",
    "        while right - left >= minSize - 1:\n",
    "            if len(cnt) <= maxLetters:\n",
    "                substring[s[left: right+1]] = substring.get(s[left: right+1],0) + 1\n",
    "            cnt[s[left]] -= 1\n",
    "            if cnt[s[left]] == 0:\n",
    "                del cnt[s[left]]\n",
    "            left += 1\n",
    "    return max(substring.values())"
   ]
  },
  {
   "cell_type": "code",
   "execution_count": 59,
   "metadata": {},
   "outputs": [],
   "source": [
    "# 使用定长窗口解决问题 maxSize为干扰条件 长字符串包括短字符串 长的满足 短的一定满足\n",
    "def maxFreq(s: str, maxLetters: int, minSize: int, maxSize: int) -> int:\n",
    "    substr = {}\n",
    "    cnt = {}\n",
    "    left = 0\n",
    "    for right in range(len(s)):\n",
    "        cnt[s[right]] = cnt.get(s[right], 0) + 1\n",
    "        if right - left < minSize-1:\n",
    "            continue\n",
    "        if len(cnt) <= maxLetters:\n",
    "            substr[s[left:right+1]] = substr.get(s[left:right+1],0) + 1\n",
    "        cnt[s[left]] -= 1\n",
    "        if cnt[s[left]] == 0:\n",
    "            del cnt[s[left]]\n",
    "        left += 1\n",
    "    return max(substr.values()) if substr else 0"
   ]
  },
  {
   "cell_type": "code",
   "execution_count": 61,
   "metadata": {},
   "outputs": [
    {
     "data": {
      "text/plain": [
       "2"
      ]
     },
     "execution_count": 61,
     "metadata": {},
     "output_type": "execute_result"
    }
   ],
   "source": [
    "s = \"aababcaab\"\n",
    "maxLetters = 2\n",
    "minSize = 3\n",
    "maxSize = 4\n",
    "s = \"aaaa\"\n",
    "maxLetters = 1\n",
    "minSize = 3\n",
    "maxSize = 3\n",
    "maxFreq(s, maxLetters, minSize, maxSize)"
   ]
  },
  {
   "cell_type": "code",
   "execution_count": 62,
   "metadata": {},
   "outputs": [],
   "source": [
    "if []:\n",
    "    print(\"2333\")"
   ]
  }
 ],
 "metadata": {
  "kernelspec": {
   "display_name": "base",
   "language": "python",
   "name": "python3"
  },
  "language_info": {
   "codemirror_mode": {
    "name": "ipython",
    "version": 3
   },
   "file_extension": ".py",
   "mimetype": "text/x-python",
   "name": "python",
   "nbconvert_exporter": "python",
   "pygments_lexer": "ipython3",
   "version": "3.12.3"
  }
 },
 "nbformat": 4,
 "nbformat_minor": 2
}
