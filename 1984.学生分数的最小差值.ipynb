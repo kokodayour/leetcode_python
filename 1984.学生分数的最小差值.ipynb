{
 "cells": [
  {
   "cell_type": "code",
   "execution_count": 17,
   "metadata": {},
   "outputs": [],
   "source": [
    "def minimumDifference(nums: list[int], k: int) -> int:\n",
    "    if k==1:\n",
    "        return 0\n",
    "    nums = sorted(nums)\n",
    "    n = len(nums)\n",
    "    ans = 10e5\n",
    "    for i in range(k-1,n):\n",
    "        ans = min(ans,nums[i]-nums[i-k+1])\n",
    "    return ans"
   ]
  },
  {
   "cell_type": "code",
   "execution_count": null,
   "metadata": {},
   "outputs": [],
   "source": [
    "nums = [9,4,1,7]\n",
    "k = 2\n",
    "minimumDifference(nums,k)"
   ]
  },
  {
   "cell_type": "code",
   "execution_count": null,
   "metadata": {},
   "outputs": [],
   "source": [
    "sorted(nums)\n",
    "nums"
   ]
  }
 ],
 "metadata": {
  "kernelspec": {
   "display_name": "base",
   "language": "python",
   "name": "python3"
  },
  "language_info": {
   "codemirror_mode": {
    "name": "ipython",
    "version": 3
   },
   "file_extension": ".py",
   "mimetype": "text/x-python",
   "name": "python",
   "nbconvert_exporter": "python",
   "pygments_lexer": "ipython3",
   "version": "3.12.3"
  }
 },
 "nbformat": 4,
 "nbformat_minor": 2
}
