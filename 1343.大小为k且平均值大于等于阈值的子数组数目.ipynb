{
 "cells": [
  {
   "cell_type": "code",
   "execution_count": 1,
   "metadata": {},
   "outputs": [],
   "source": [
    "def numOfSubarrays(arr: list[int], k: int, threshold: int) -> int:\n",
    "    total = sum(arr[:k])\n",
    "    threshold *= k\n",
    "    ans = 1 if total >= threshold else 0\n",
    "    for i in range(k, len(arr)):\n",
    "        total = total + arr[i] - arr[i-k]\n",
    "        if total >= threshold:\n",
    "            ans += 1\n",
    "    return ans"
   ]
  }
 ],
 "metadata": {
  "kernelspec": {
   "display_name": "base",
   "language": "python",
   "name": "python3"
  },
  "language_info": {
   "codemirror_mode": {
    "name": "ipython",
    "version": 3
   },
   "file_extension": ".py",
   "mimetype": "text/x-python",
   "name": "python",
   "nbconvert_exporter": "python",
   "pygments_lexer": "ipython3",
   "version": "3.10.10"
  }
 },
 "nbformat": 4,
 "nbformat_minor": 2
}
