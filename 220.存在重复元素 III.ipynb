{
 "cells": [
  {
   "cell_type": "code",
   "execution_count": 4,
   "metadata": {},
   "outputs": [],
   "source": [
    "from sortedcontainers import SortedList\n",
    "import bisect\n",
    "\n",
    "def containsNearbyAlmostDuplicate(nums: list[int], indexDiff: int, valueDiff: int) -> bool:\n",
    "    window = SortedList()\n",
    "    for i in range(len(nums)):\n",
    "        if i > indexDiff:\n",
    "            window.remove(nums[i-1-indexDiff])\n",
    "        window.add(nums[i])\n",
    "        idx = bisect.bisect_left(window, nums[i])\n",
    "        if idx>0 and abs(window[idx]-window[idx-1]) <= valueDiff:\n",
    "            return True\n",
    "        if idx<len(window)-1 and abs(window[idx+1]-window[idx]) <= valueDiff:\n",
    "            return True\n",
    "    return False "
   ]
  },
  {
   "cell_type": "code",
   "execution_count": null,
   "metadata": {},
   "outputs": [],
   "source": [
    "def containsNearbyAlmostDuplicate(nums: list[int], indexDiff: int, valueDiff: int) -> bool:\n",
    "    map ={}\n",
    "    size = valueDiff + 1\n",
    "    for i, u in enumerate(nums):\n",
    "        idx = u //size\n",
    "        # 如果目标桶已经存在 说明前面已有[u-t, u+t]范围的数字\n",
    "        if idx in map:\n",
    "            return True\n",
    "        # 检查相邻的桶\n",
    "        l, r = idx-1, idx+1\n",
    "        if l in map and abs(u-map[l]) <= valueDiff:\n",
    "            return True\n",
    "        if r in map and abs(u-map[r]) <= valueDiff:\n",
    "            return True\n",
    "        # 建立目标桶\n",
    "        map[idx] = u\n",
    "        # 维护个数为k\n",
    "        if i >= indexDiff:\n",
    "            map.pop(nums[i-indexDiff]//size)\n",
    "    return False"
   ]
  },
  {
   "cell_type": "code",
   "execution_count": 5,
   "metadata": {},
   "outputs": [
    {
     "data": {
      "text/plain": [
       "False"
      ]
     },
     "execution_count": 5,
     "metadata": {},
     "output_type": "execute_result"
    }
   ],
   "source": [
    "nums = [1,5,9,1,5,9]\n",
    "indexDiff = 2\n",
    "valueDiff = 3\n",
    "containsNearbyAlmostDuplicate(nums, indexDiff, valueDiff)"
   ]
  }
 ],
 "metadata": {
  "kernelspec": {
   "display_name": "base",
   "language": "python",
   "name": "python3"
  },
  "language_info": {
   "codemirror_mode": {
    "name": "ipython",
    "version": 3
   },
   "file_extension": ".py",
   "mimetype": "text/x-python",
   "name": "python",
   "nbconvert_exporter": "python",
   "pygments_lexer": "ipython3",
   "version": "3.12.3"
  }
 },
 "nbformat": 4,
 "nbformat_minor": 2
}
