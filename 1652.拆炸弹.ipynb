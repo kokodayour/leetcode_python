{
 "cells": [
  {
   "cell_type": "code",
   "execution_count": 1,
   "metadata": {},
   "outputs": [],
   "source": [
    "# 使用sum函数计算切片之和, 根据不同情况判断切片范围\n",
    "def decrypt(code: list[int], k: int) -> list[int]:\n",
    "    length = len(code)\n",
    "    ans = []\n",
    "    if k > 0:\n",
    "        for i in range(length):\n",
    "            if i+k+1 <= length:\n",
    "                ans.append(sum(code[i+1:i+k+1]))\n",
    "            elif i == length-1:\n",
    "                ans.append(sum(code[:k]))\n",
    "            else:\n",
    "                # 索引值 - 索引值 + 1表示上个循环已经计算的元素个数\n",
    "                ans.append(sum(code[i+1:]) + sum(code[:k - ((length-1) - (i+1) + 1)]))\n",
    "        return ans\n",
    "    elif k < 0:\n",
    "        for i in range(length):\n",
    "            if i+1 > -k:\n",
    "                ans.append(sum(code[i+k:i]))\n",
    "            elif i == 0:\n",
    "                ans.append(sum(code[k:]))\n",
    "            else:\n",
    "                ans.append(sum(code[:i]) + sum(code[-(-k - i):]))\n",
    "        return ans\n",
    "    else:\n",
    "        return [0] * length\n",
    "    "
   ]
  },
  {
   "cell_type": "code",
   "execution_count": 22,
   "metadata": {},
   "outputs": [],
   "source": [
    "def decrypt(code:list[int], k: int) -> list[int]:\n",
    "    n = len(code)\n",
    "    new_code = code * 3\n",
    "    if k>0:\n",
    "        code[0] = sum(new_code[n+1:n+k+1])\n",
    "        for i, (in_, out) in enumerate(zip(new_code[n+k+1:], new_code[n+1:])):\n",
    "            code[i+1] = code[i] + in_ - out\n",
    "            if i == n-2:\n",
    "                return code\n",
    "    elif k<0:\n",
    "        code[0] = sum(new_code[n+k:n])\n",
    "        for i, (in_, out) in enumerate(zip(new_code[n:], new_code[n+k:])):\n",
    "            code[i+1] = code[i] + in_ - out\n",
    "            if i == n-2:\n",
    "                return code\n",
    "    else:\n",
    "        return [0] * n"
   ]
  },
  {
   "cell_type": "code",
   "execution_count": 24,
   "metadata": {},
   "outputs": [],
   "source": [
    "# k的正负与否只影响初始窗口的位置\n",
    "def decrypt(code:list[int], k: int) -> list[int]:\n",
    "    n = len(code)\n",
    "    code *= 3\n",
    "    ans = [0]*n\n",
    "    r = n+k+1 if k>0 else n\n",
    "    k = abs(k)\n",
    "    ans[0] = sum(code[r-k:r])\n",
    "    for i, (in_, out) in enumerate(zip(code[r:], code[r-k:])):\n",
    "        if i+1 < n:\n",
    "            ans[i+1] = ans[i] + in_ - out\n",
    "        else:\n",
    "            return ans"
   ]
  },
  {
   "cell_type": "code",
   "execution_count": 3,
   "metadata": {},
   "outputs": [],
   "source": [
    "def decrypt(code: list[int], k: int) -> list[int]:\n",
    "    n = len(code)\n",
    "    ans = [0] * n\n",
    "    r = k + 1 if k > 0 else n\n",
    "    k = abs(k)\n",
    "    s = sum(code[r - k: r])  # ans[0]\n",
    "    for i in range(n):\n",
    "        ans[i] = s\n",
    "        # 这里不采用扩展数列的方法 而是直接用code[r%n]作为in_ 当窗口滑到头的时候 它自动从0开始\n",
    "        s += code[r % n] - code[(r - k) % n]\n",
    "        r += 1\n",
    "    return ans"
   ]
  },
  {
   "cell_type": "code",
   "execution_count": 27,
   "metadata": {},
   "outputs": [
    {
     "data": {
      "text/plain": [
       "[0, 0, 0, 0]"
      ]
     },
     "execution_count": 27,
     "metadata": {},
     "output_type": "execute_result"
    }
   ],
   "source": [
    "code = [2,4,9,3]\n",
    "k = -2\n",
    "# code = [5,7,1,4]\n",
    "# k = 3\n",
    "decrypt(code, k)"
   ]
  }
 ],
 "metadata": {
  "kernelspec": {
   "display_name": "base",
   "language": "python",
   "name": "python3"
  },
  "language_info": {
   "codemirror_mode": {
    "name": "ipython",
    "version": 3
   },
   "file_extension": ".py",
   "mimetype": "text/x-python",
   "name": "python",
   "nbconvert_exporter": "python",
   "pygments_lexer": "ipython3",
   "version": "3.12.3"
  }
 },
 "nbformat": 4,
 "nbformat_minor": 2
}
