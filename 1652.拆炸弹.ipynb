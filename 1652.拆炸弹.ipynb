{
 "cells": [
  {
   "cell_type": "code",
   "execution_count": 19,
   "metadata": {},
   "outputs": [],
   "source": [
    "# 使用sum函数计算切片之和, 根据不同情况判断切片范围\n",
    "def decrypt(code: list[int], k: int) -> list[int]:\n",
    "    length = len(code)\n",
    "    ans = []\n",
    "    if k > 0:\n",
    "        for i in range(length):\n",
    "            if i+k+1 <= length:\n",
    "                ans.append(sum(code[i+1:i+k+1]))\n",
    "            elif i == length-1:\n",
    "                ans.append(sum(code[:k]))\n",
    "            else:\n",
    "                # 索引值 - 索引值 + 1表示上个循环已经计算的元素个数\n",
    "                ans.append(sum(code[i+1:]) + sum(code[:k - ((length-1) - (i+1) + 1)]))\n",
    "        return ans\n",
    "    elif k < 0:\n",
    "        for i in range(length):\n",
    "            if i+1 > -k:\n",
    "                ans.append(sum(code[i+k:i]))\n",
    "            elif i == 0:\n",
    "                ans.append(sum(code[k:]))\n",
    "            else:\n",
    "                ans.append(sum(code[:i]) + sum(code[-(-k - i):]))\n",
    "        return ans\n",
    "    else:\n",
    "        return [0 for _ in code]"
   ]
  },
  {
   "cell_type": "code",
   "execution_count": null,
   "metadata": {},
   "outputs": [],
   "source": [
    "def decrypt(code: list[int], k: int) -> list[int]:\n",
    "    n = len(code)\n",
    "    ans = [0] * n\n",
    "    r = k + 1 if k > 0 else n\n",
    "    k = abs(k)\n",
    "    s = sum(code[r - k: r])  # ans[0]\n",
    "    for i in range(n):\n",
    "        ans[i] = s\n",
    "        s += code[r % n] - code[(r - k) % n]\n",
    "        r += 1\n",
    "    return ans"
   ]
  },
  {
   "cell_type": "code",
   "execution_count": 20,
   "metadata": {},
   "outputs": [
    {
     "data": {
      "text/plain": [
       "[12, 5, 6, 13]"
      ]
     },
     "execution_count": 20,
     "metadata": {},
     "output_type": "execute_result"
    }
   ],
   "source": [
    "code = [2,4,9,3]\n",
    "k = -2\n",
    "decrypt(code, k)"
   ]
  }
 ],
 "metadata": {
  "kernelspec": {
   "display_name": "base",
   "language": "python",
   "name": "python3"
  },
  "language_info": {
   "codemirror_mode": {
    "name": "ipython",
    "version": 3
   },
   "file_extension": ".py",
   "mimetype": "text/x-python",
   "name": "python",
   "nbconvert_exporter": "python",
   "pygments_lexer": "ipython3",
   "version": "3.10.10"
  }
 },
 "nbformat": 4,
 "nbformat_minor": 2
}
