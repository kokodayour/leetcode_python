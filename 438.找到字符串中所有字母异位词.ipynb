{
 "cells": [
  {
   "cell_type": "code",
   "execution_count": 4,
   "metadata": {},
   "outputs": [],
   "source": [
    "from collections import Counter\n",
    "def findAnagrams(s: str, p: str) -> list[int]:\n",
    "    ans = []\n",
    "    n = len(p)\n",
    "    freq1 = Counter(p)\n",
    "    freq2 = Counter(s[:n-1])\n",
    "    for i in range(n-1, len(s)):\n",
    "        freq2[s[i]] += 1\n",
    "        if freq2 == freq1:\n",
    "            ans.append(i-(n-1))\n",
    "        freq2[s[i-(n-1)]] -= 1\n",
    "    return ans"
   ]
  },
  {
   "cell_type": "code",
   "execution_count": null,
   "metadata": {},
   "outputs": [],
   "source": [
    "# 不定长窗口\n",
    "from collections import Counter\n",
    "def findAnagrams(s, p):\n",
    "    ans = []\n",
    "    cnt = Counter(p)\n",
    "    left = 0\n",
    "    for right, c in enumerate(s):\n",
    "        cnt[c] -= 1 # 右端点字母进入窗口\n",
    "        while cnt[c] < 0: # 字母c太多了\n",
    "            cnt[s[left]] += 1 # 左端点字母离开窗口\n",
    "            left += 1\n",
    "        # 只要窗口长度与p相同则满足条件\n",
    "        # 长度相同的情况下 要么出现不属于P的元素 要么部分元素被另外部分元素替代了\n",
    "        # 与p不同的元素或出现太多的元素为-1 已经在上面的while循环中去掉了\n",
    "        if right - left + 1 == len(p):\n",
    "            ans.append(left)\n",
    "    return ans"
   ]
  },
  {
   "cell_type": "code",
   "execution_count": 6,
   "metadata": {},
   "outputs": [
    {
     "data": {
      "text/plain": [
       "[0, 1, 2]"
      ]
     },
     "execution_count": 6,
     "metadata": {},
     "output_type": "execute_result"
    }
   ],
   "source": [
    "s = \"cbaebabacd\"\n",
    "p = \"abc\"\n",
    "s = \"abab\"\n",
    "p = \"ab\"\n",
    "findAnagrams(s,p)"
   ]
  }
 ],
 "metadata": {
  "kernelspec": {
   "display_name": "base",
   "language": "python",
   "name": "python3"
  },
  "language_info": {
   "codemirror_mode": {
    "name": "ipython",
    "version": 3
   },
   "file_extension": ".py",
   "mimetype": "text/x-python",
   "name": "python",
   "nbconvert_exporter": "python",
   "pygments_lexer": "ipython3",
   "version": "3.12.3"
  }
 },
 "nbformat": 4,
 "nbformat_minor": 2
}
