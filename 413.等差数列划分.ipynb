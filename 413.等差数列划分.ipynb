{
 "cells": [
  {
   "cell_type": "code",
   "execution_count": 28,
   "metadata": {},
   "outputs": [],
   "source": [
    "# 长度为n的等差数组 其长度为n-1 n-2 …… 3的子数组也一定是等差数组\n",
    "# 长度为3的子数组有n-2个 长度为n的子数组有1个 总共有1+2+....+n-2\n",
    "def numberOfArithmeticSlices(nums: list[int]) -> int:\n",
    "    ans = 0\n",
    "    n = len(nums)\n",
    "    if n < 3:\n",
    "        return 0\n",
    "    left = 0\n",
    "    right = 2\n",
    "    diff = nums[2]-nums[1]\n",
    "    if diff != nums[1] - nums[0]:\n",
    "        left = 1\n",
    "    for right in range(3, n):\n",
    "        # 比较新的差分与原有的差分 不一致则统计等差数组个数 同时更新差分与左端点\n",
    "        if nums[right]-nums[right-1] != diff:\n",
    "            # (right-1)-left + 1 是数组长度 range(数组长度-1)即求和到n-2\n",
    "            ans += sum(range(right-1-left+1-1))\n",
    "            left = right-1\n",
    "            diff = nums[right]-nums[right-1]\n",
    "    if left != right-1:\n",
    "        ans += sum(range(right-left+1-1))\n",
    "    return ans"
   ]
  },
  {
   "cell_type": "code",
   "execution_count": null,
   "metadata": {},
   "outputs": [],
   "source": [
    "nums = [1,2,3,8,9,10]\n",
    "numberOfArithmeticSlices(nums)  "
   ]
  }
 ],
 "metadata": {
  "kernelspec": {
   "display_name": "base",
   "language": "python",
   "name": "python3"
  },
  "language_info": {
   "codemirror_mode": {
    "name": "ipython",
    "version": 3
   },
   "file_extension": ".py",
   "mimetype": "text/x-python",
   "name": "python",
   "nbconvert_exporter": "python",
   "pygments_lexer": "ipython3",
   "version": "3.12.3"
  }
 },
 "nbformat": 4,
 "nbformat_minor": 2
}
