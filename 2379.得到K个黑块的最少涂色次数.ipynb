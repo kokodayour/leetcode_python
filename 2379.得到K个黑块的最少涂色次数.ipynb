{
 "cells": [
  {
   "cell_type": "code",
   "execution_count": 1,
   "metadata": {},
   "outputs": [],
   "source": [
    "# 换句话说, 就是求窗口中W的个数最小值\n",
    "def minimumRecolors(blocks: str, k: int) -> int:\n",
    "    ans = k + 1\n",
    "    temp = 0\n",
    "    for right, char in enumerate(blocks):\n",
    "        # 1.进入窗口\n",
    "        if char == 'W':\n",
    "            temp += 1\n",
    "        if right < k - 1: # 窗口大小不足k\n",
    "            continue\n",
    "        # 2.更新答案\n",
    "        ans = min(ans, temp)\n",
    "        # 3.退出窗口\n",
    "        if blocks[right-k+1] == 'W':\n",
    "            temp -= 1\n",
    "    return ans if ans < k + 1 else k"
   ]
  },
  {
   "cell_type": "code",
   "execution_count": 4,
   "metadata": {},
   "outputs": [],
   "source": [
    "# 使用zip函数改写\n",
    "def minimumRecolors(blocks, k):\n",
    "    ans = temp = blocks[:k].count('W')\n",
    "    for in_, out in zip(blocks[k:], blocks):\n",
    "        temp += (in_ == 'W') - (out == 'W')\n",
    "        ans = min(ans, temp)\n",
    "    return ans"
   ]
  },
  {
   "cell_type": "code",
   "execution_count": 6,
   "metadata": {},
   "outputs": [
    {
     "data": {
      "text/plain": [
       "3"
      ]
     },
     "execution_count": 6,
     "metadata": {},
     "output_type": "execute_result"
    }
   ],
   "source": [
    "blocks = \"WBBWWBBWBW\"\n",
    "k = 7\n",
    "# blocks = \"WBWBBBW\"\n",
    "# k = 2\n",
    "minimumRecolors(blocks, k)"
   ]
  }
 ],
 "metadata": {
  "kernelspec": {
   "display_name": "base",
   "language": "python",
   "name": "python3"
  },
  "language_info": {
   "codemirror_mode": {
    "name": "ipython",
    "version": 3
   },
   "file_extension": ".py",
   "mimetype": "text/x-python",
   "name": "python",
   "nbconvert_exporter": "python",
   "pygments_lexer": "ipython3",
   "version": "3.10.10"
  }
 },
 "nbformat": 4,
 "nbformat_minor": 2
}
