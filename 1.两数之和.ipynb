{
 "cells": [
  {
   "cell_type": "code",
   "execution_count": null,
   "metadata": {},
   "outputs": [],
   "source": [
    "def twoSum(nums, target): #暴力解法\n",
    "    for i in range(len(nums)):\n",
    "        for j in range(i + 1, len(nums)):\n",
    "            if nums[i]+nums[j] == target:\n",
    "                return [i,j]\n",
    "    raise ValueError(\"No such two nums\")"
   ]
  },
  {
   "cell_type": "code",
   "execution_count": null,
   "metadata": {},
   "outputs": [],
   "source": [
    "def twoSum(nums, target): # 空间换时间 key存元素 value存位置\n",
    "    elemIndex = {}\n",
    "    for i,x in enumerate(nums):\n",
    "        if target - x in elemIndex:\n",
    "            return [elemIndex[target-x],i]\n",
    "        elemIndex[x] = i\n",
    "    raise ValueError(\"No such two nums\")"
   ]
  },
  {
   "cell_type": "code",
   "execution_count": 1,
   "metadata": {},
   "outputs": [],
   "source": [
    "def twoSum(nums, target): # 不用哈希表存储 使用index函数在剩下的元素中搜索\n",
    "    for i in range(len(nums)):\n",
    "        next = target - nums[i]\n",
    "        if next in nums[i+1:]:\n",
    "            return [i, nums[i+1:].index(next)+i+1]\n",
    "    raise ValueError(\"No such two nums\")"
   ]
  },
  {
   "cell_type": "code",
   "execution_count": 2,
   "metadata": {},
   "outputs": [
    {
     "data": {
      "text/plain": [
       "[0, 1]"
      ]
     },
     "execution_count": 2,
     "metadata": {},
     "output_type": "execute_result"
    }
   ],
   "source": [
    "num = [2,7,11,15]\n",
    "target = 9\n",
    "twoSum(num, target)"
   ]
  }
 ],
 "metadata": {
  "kernelspec": {
   "display_name": "base",
   "language": "python",
   "name": "python3"
  },
  "language_info": {
   "codemirror_mode": {
    "name": "ipython",
    "version": 3
   },
   "file_extension": ".py",
   "mimetype": "text/x-python",
   "name": "python",
   "nbconvert_exporter": "python",
   "pygments_lexer": "ipython3",
   "version": "3.10.10"
  }
 },
 "nbformat": 4,
 "nbformat_minor": 2
}
