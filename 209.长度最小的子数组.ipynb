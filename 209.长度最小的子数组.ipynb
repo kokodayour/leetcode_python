{
 "cells": [
  {
   "cell_type": "code",
   "execution_count": 4,
   "metadata": {},
   "outputs": [],
   "source": [
    "# 时间复杂度n(n+1)/2\n",
    "def minSubArrayLen(target: int, nums: list[int]) -> int:\n",
    "    ans = 0\n",
    "    length = len(nums)\n",
    "    left = 0\n",
    "    while length > 0 and left+length <= len(nums):\n",
    "        sublist = nums[left:left+length]\n",
    "        if sum(sublist) >= target:\n",
    "            ans = length\n",
    "            length -= 1\n",
    "        # 当循环运行到最后一个窗口并且没有通过上一个if的话, 说明这已经是最小的窗口了\n",
    "        elif length == len(nums):\n",
    "            break\n",
    "        # 窗口向右移动\n",
    "        else:\n",
    "            left += 1\n",
    "    return ans"
   ]
  },
  {
   "cell_type": "code",
   "execution_count": 23,
   "metadata": {},
   "outputs": [],
   "source": [
    "# 不符合题目要求, 子数组必须要连续, 排序后顺序就被打乱了\n",
    "def minSubArrayLen(target, nums: list[int]):\n",
    "    nums.sort()\n",
    "    length = 1\n",
    "    while length <= len(nums):\n",
    "        if sum(nums[-length:]) >= target:\n",
    "            return length\n",
    "        else:\n",
    "            length += 1\n",
    "        return 0"
   ]
  },
  {
   "cell_type": "code",
   "execution_count": 4,
   "metadata": {},
   "outputs": [],
   "source": [
    "# 先不断地往右加, 当满足条件的时候再不断缩减左边界\n",
    "def minSubArrayLen(target, nums):\n",
    "    left = 0\n",
    "    temp = 0\n",
    "    n = len(nums)\n",
    "    ans = n + 1\n",
    "    for right in range(n):\n",
    "        temp += nums[right]\n",
    "        while temp >= target:\n",
    "            ans = min(ans, right-left+1)\n",
    "            temp -= nums[left]\n",
    "            left += 1\n",
    "    return 0 if ans == n+1 else ans"
   ]
  },
  {
   "cell_type": "code",
   "execution_count": 3,
   "metadata": {},
   "outputs": [
    {
     "data": {
      "text/plain": [
       "8"
      ]
     },
     "execution_count": 3,
     "metadata": {},
     "output_type": "execute_result"
    }
   ],
   "source": [
    "target = 213\n",
    "nums = [12,28,83,4,25,26,25,2,25,25,25,12]\n",
    "minSubArrayLen(target, nums)"
   ]
  }
 ],
 "metadata": {
  "kernelspec": {
   "display_name": "base",
   "language": "python",
   "name": "python3"
  },
  "language_info": {
   "codemirror_mode": {
    "name": "ipython",
    "version": 3
   },
   "file_extension": ".py",
   "mimetype": "text/x-python",
   "name": "python",
   "nbconvert_exporter": "python",
   "pygments_lexer": "ipython3",
   "version": "3.12.3"
  }
 },
 "nbformat": 4,
 "nbformat_minor": 2
}
