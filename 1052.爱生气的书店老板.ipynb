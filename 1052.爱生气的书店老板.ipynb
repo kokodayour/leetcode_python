{
 "cells": [
  {
   "cell_type": "code",
   "execution_count": 13,
   "metadata": {},
   "outputs": [],
   "source": [
    "def maxSatisfied(customers: list[int], grumpy: list[int], minutes: int) -> int:\n",
    "    # 老板\"平时\"不生气时的顾客数量 + \"抑制情绪时\"的顾客数量 \n",
    "    num = temp = sum([a*(1-b) for a,b in zip(customers[minutes:], grumpy[minutes:])]) + sum(customers[:minutes])\n",
    "    # 对\"抑制情绪时\"窗口进行滑动\n",
    "    for out_index, in_index in zip(range(len(customers)), range(minutes, len(customers))):\n",
    "        if grumpy[out_index] == 1:\n",
    "            temp -= customers[out_index]\n",
    "        if grumpy[in_index] == 1:\n",
    "            temp += customers[in_index]\n",
    "        num = max(num, temp)\n",
    "    return num"
   ]
  },
  {
   "cell_type": "code",
   "execution_count": null,
   "metadata": {},
   "outputs": [],
   "source": [
    "def maxSatisfied(customers: list[int], grumpy: list[int], minutes: int) -> int:\n",
    "    # 两个元素分别存储不生气时和生气时的顾客数\n",
    "    s = [0, 0]\n",
    "    max_s1 = 0\n",
    "    for i, (c, g) in enumerate(zip(customers, grumpy)):\n",
    "        s[g] += c\n",
    "        if i < minutes - 1:  # 窗口长度不足 minutes\n",
    "            continue\n",
    "        max_s1 = max(max_s1, s[1])\n",
    "        if grumpy[i - minutes + 1]:\n",
    "            s[1] -= customers[i - minutes + 1]  # 窗口最左边元素离开窗口\n",
    "    return s[0] + max_s1"
   ]
  },
  {
   "cell_type": "code",
   "execution_count": null,
   "metadata": {},
   "outputs": [],
   "source": [
    "# 方法一滑动的逻辑是 先将第一个窗口视作答案 然后逐步滑动窗口更新答案 循环体更加的简洁明了\n",
    "# 方法二滑动的逻辑是 判断窗口长度是否足够 不够的话跳过后续步骤直至形成窗口 循环上更具有连续性 从头到尾\n",
    "# 两者方法的区别在于第一个窗口的形成 前者判断前后元素后再比较大小 后者判断前元素后比较大小再判断后元素用于下一次循环"
   ]
  },
  {
   "cell_type": "code",
   "execution_count": 14,
   "metadata": {},
   "outputs": [
    {
     "data": {
      "text/plain": [
       "16"
      ]
     },
     "execution_count": 14,
     "metadata": {},
     "output_type": "execute_result"
    }
   ],
   "source": [
    "customers = [1,0,1,2,1,1,7,5]\n",
    "grumpy = [0,1,0,1,0,1,0,1]\n",
    "minutes = 3\n",
    "maxSatisfied(customers, grumpy, minutes)"
   ]
  },
  {
   "cell_type": "code",
   "execution_count": 15,
   "metadata": {},
   "outputs": [
    {
     "name": "stdout",
     "output_type": "stream",
     "text": [
      "0 (1, 0)\n",
      "1 (0, 1)\n",
      "2 (1, 0)\n",
      "3 (2, 1)\n",
      "4 (1, 0)\n",
      "5 (1, 1)\n",
      "6 (7, 0)\n",
      "7 (5, 1)\n"
     ]
    }
   ],
   "source": [
    "for i, (c, g) in enumerate(zip(customers, grumpy)):\n",
    "    print(i, (c,g))"
   ]
  }
 ],
 "metadata": {
  "kernelspec": {
   "display_name": "base",
   "language": "python",
   "name": "python3"
  },
  "language_info": {
   "codemirror_mode": {
    "name": "ipython",
    "version": 3
   },
   "file_extension": ".py",
   "mimetype": "text/x-python",
   "name": "python",
   "nbconvert_exporter": "python",
   "pygments_lexer": "ipython3",
   "version": "3.12.3"
  }
 },
 "nbformat": 4,
 "nbformat_minor": 2
}
