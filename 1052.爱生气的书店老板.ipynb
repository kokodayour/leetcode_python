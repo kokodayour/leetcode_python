{
 "cells": [
  {
   "cell_type": "code",
   "execution_count": 41,
   "metadata": {},
   "outputs": [],
   "source": [
    "def maxSatisfied(customers: list[int], grumpy: list[int], minutes: int) -> int:\n",
    "    n = len(customers)\n",
    "    ans = temp = sum([customers[i] for i in range(minutes, n) if grumpy[i] == 0]) + sum(customers[:minutes])\n",
    "    temp = [sum(customers[:minutes])]\n",
    "    for index, (in_, out) in enumerate(zip(customers[minutes:], customers)):\n",
    "        print(sum(customers[index:index+minutes]))\n",
    "        temp.append(sum(customers[index:index+minutes]))\n",
    "        if grumpy[minutes+index] == 1:\n",
    "            temp[index+1] += in_\n",
    "        if grumpy[index] == 0:\n",
    "            temp[index+1] -= out  \n",
    "    print(temp)      \n",
    "    ans += max(temp)\n",
    "    return ans"
   ]
  },
  {
   "cell_type": "code",
   "execution_count": 42,
   "metadata": {},
   "outputs": [
    {
     "name": "stdout",
     "output_type": "stream",
     "text": [
      "2\n",
      "3\n",
      "4\n",
      "4\n",
      "9\n",
      "[2, 3, 3, 4, 4, 13]\n"
     ]
    },
    {
     "data": {
      "text/plain": [
       "23"
      ]
     },
     "execution_count": 42,
     "metadata": {},
     "output_type": "execute_result"
    }
   ],
   "source": [
    "customers = [1,0,1,2,1,1,7,5]\n",
    "grumpy =    [0,1,0,1,0,1,0,1]\n",
    "minutes = 3\n",
    "maxSatisfied(customers, grumpy, minutes)"
   ]
  },
  {
   "cell_type": "code",
   "execution_count": 13,
   "metadata": {},
   "outputs": [
    {
     "name": "stdout",
     "output_type": "stream",
     "text": [
      "0\n",
      "1\n",
      "2\n",
      "3\n",
      "4\n"
     ]
    }
   ],
   "source": [
    "for index, (in_, out) in enumerate(zip(customers[minutes:], customers)):\n",
    "    print(index)"
   ]
  }
 ],
 "metadata": {
  "kernelspec": {
   "display_name": "base",
   "language": "python",
   "name": "python3"
  },
  "language_info": {
   "codemirror_mode": {
    "name": "ipython",
    "version": 3
   },
   "file_extension": ".py",
   "mimetype": "text/x-python",
   "name": "python",
   "nbconvert_exporter": "python",
   "pygments_lexer": "ipython3",
   "version": "3.10.10"
  }
 },
 "nbformat": 4,
 "nbformat_minor": 2
}
