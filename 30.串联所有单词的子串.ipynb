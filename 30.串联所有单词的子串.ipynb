{
 "cells": [
  {
   "cell_type": "code",
   "execution_count": 1,
   "metadata": {},
   "outputs": [],
   "source": [
    "def findSubstring(s: str, words: list[str]) -> list[int]:\n",
    "    ans = []\n",
    "    elem_char_num = len(words[0])\n",
    "    length = len(words) * elem_char_num\n",
    "    word_occur = {}\n",
    "    for elem in words:\n",
    "        word_occur[elem] = word_occur.get(elem, 0) + 1\n",
    "    for left in range(len(s) - length + 1):\n",
    "        temp_occur = word_occur.copy()\n",
    "        right = left\n",
    "        while right < left + length:\n",
    "            elem = s[right:right+elem_char_num]\n",
    "            if elem not in temp_occur or temp_occur[elem] == 0:\n",
    "                break\n",
    "            temp_occur[elem] -= 1\n",
    "            right += elem_char_num\n",
    "        if right == left + length:\n",
    "            ans.append(left)\n",
    "    return ans"
   ]
  },
  {
   "cell_type": "code",
   "execution_count": 2,
   "metadata": {},
   "outputs": [
    {
     "data": {
      "text/plain": [
       "[8]"
      ]
     },
     "execution_count": 2,
     "metadata": {},
     "output_type": "execute_result"
    }
   ],
   "source": [
    "s =\"wordgoodgoodgoodbestword\"\n",
    "words = [\"word\",\"good\",\"best\",\"good\"]\n",
    "findSubstring(s, words)"
   ]
  }
 ],
 "metadata": {
  "kernelspec": {
   "display_name": "base",
   "language": "python",
   "name": "python3"
  },
  "language_info": {
   "codemirror_mode": {
    "name": "ipython",
    "version": 3
   },
   "file_extension": ".py",
   "mimetype": "text/x-python",
   "name": "python",
   "nbconvert_exporter": "python",
   "pygments_lexer": "ipython3",
   "version": "3.10.10"
  }
 },
 "nbformat": 4,
 "nbformat_minor": 2
}
