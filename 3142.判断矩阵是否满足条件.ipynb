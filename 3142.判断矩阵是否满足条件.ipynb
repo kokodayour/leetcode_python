{
 "cells": [
  {
   "cell_type": "code",
   "execution_count": 8,
   "metadata": {},
   "outputs": [],
   "source": [
    "# 暴力解法 先判断第一行相邻的两个数是否相同\n",
    "# 再判断每一列上的数是否相同\n",
    "def satisfiesConditions(grid) -> bool:\n",
    "    row = len(grid)\n",
    "    col = len(grid[0])\n",
    "    for k in range(1, col):\n",
    "        if grid[0][k] == grid[0][k-1]:\n",
    "            return False\n",
    "    for i in range(col):\n",
    "        for j in range(1, row):\n",
    "            if grid[j][i] != grid[j-1][i]:\n",
    "                return False\n",
    "    return True"
   ]
  },
  {
   "cell_type": "code",
   "execution_count": null,
   "metadata": {},
   "outputs": [],
   "source": [
    "def satisfiesConditions(grid) -> bool:\n",
    "    row = len(grid)\n",
    "    col = len(grid[0])\n",
    "    for k in range(1, col):\n",
    "        if grid[0][k] == grid[0][k-1]:\n",
    "            return False\n",
    "    for i in range(col):\n",
    "        for j in range(1, row):\n",
    "            if grid[j][i] != grid[j-1][i]:\n",
    "                return False\n",
    "    return True"
   ]
  },
  {
   "cell_type": "code",
   "execution_count": 9,
   "metadata": {},
   "outputs": [
    {
     "data": {
      "text/plain": [
       "True"
      ]
     },
     "execution_count": 9,
     "metadata": {},
     "output_type": "execute_result"
    }
   ],
   "source": [
    "grid = [[3,5,3],[3,5,3],[3,5,3]]\n",
    "satisfiesConditions(grid)"
   ]
  }
 ],
 "metadata": {
  "kernelspec": {
   "display_name": "base",
   "language": "python",
   "name": "python3"
  },
  "language_info": {
   "codemirror_mode": {
    "name": "ipython",
    "version": 3
   },
   "file_extension": ".py",
   "mimetype": "text/x-python",
   "name": "python",
   "nbconvert_exporter": "python",
   "pygments_lexer": "ipython3",
   "version": "3.10.10"
  }
 },
 "nbformat": 4,
 "nbformat_minor": 2
}
