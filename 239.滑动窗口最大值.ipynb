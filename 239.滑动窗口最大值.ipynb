{
 "cells": [
  {
   "cell_type": "code",
   "execution_count": 1,
   "metadata": {},
   "outputs": [],
   "source": [
    "# 暴力解法 向右滑动窗口 取最大值\n",
    "def maxSlidingWindow(nums: list[int], k: int) -> list[int]: \n",
    "    ans = []\n",
    "    n = len(nums)\n",
    "    for i in range(n-k+1):\n",
    "        ans.append(max(nums[i:i+k]))\n",
    "    return ans"
   ]
  },
  {
   "cell_type": "code",
   "execution_count": 6,
   "metadata": {},
   "outputs": [],
   "source": [
    "# 单调队列\n",
    "# 事实上我们并不需要每次都对窗口中的k个元素进行比较\n",
    "# 假设k=5时第4个元素最大 在下次滑动的时候只需要将第6个元素与第4个元素比较就行 其它元素不需要比较\n",
    "# 问题转化成 若新添加的元素大于之前的元素 则将之前小于它的元素全部删除\n",
    "# 后续的元素需要保留 因为随着窗口的移动 最大值可能被滑出去\n",
    "# 滑出去后 下一个元素一定是最大值 因为左边比它小的数全部删除了\n",
    "# 若右边存在一个数大于它 则它不会存在容器里 早被删除了\n",
    "def maxSlidingWindow(nums: list[int], k: int) -> list[int]: \n",
    "    ans = []\n",
    "    # temp存放符合要求的元素索引\n",
    "    temp = []\n",
    "    for i in range(len(nums)):\n",
    "        # 在不断pop出元素的时候 temp可能为空\n",
    "        while temp and nums[i] >= nums[temp[-1]]:\n",
    "            temp.pop()\n",
    "        temp.append(i)\n",
    "        # 当队首滑出去的时候\n",
    "        if i - temp[0] + 1 > k:\n",
    "            temp.pop(0)\n",
    "        # 当形成了窗口的时候\n",
    "        if i >= k-1:\n",
    "            ans.append(nums[temp[0]])\n",
    "    return ans\n"
   ]
  },
  {
   "cell_type": "code",
   "execution_count": 8,
   "metadata": {},
   "outputs": [],
   "source": [
    "# 优先队列\n",
    "# 获取窗口的最大值(大堆的堆顶) 同时新加入元素时更新窗口的最大值(更新堆)\n",
    "# 为判断堆顶在数组中的位置 堆中存储二元组(num, index)\n",
    "import heapq\n",
    "def maxSlidingWindow(nums, k):\n",
    "    n = len(nums)\n",
    "    # python默认是小顶堆\n",
    "    q = [(-nums[i], i) for i in range(k)]\n",
    "    heapq.heapify(q)\n",
    "    ans = [-q[0][0]]\n",
    "    for i in range(k, n):\n",
    "        heapq.heappush(q, (-nums[i], i))\n",
    "        while i - q[0][1] + 1 > k:\n",
    "            heapq.heappop(q)\n",
    "        ans.append(-q[0][0])\n",
    "    return ans"
   ]
  },
  {
   "cell_type": "code",
   "execution_count": 43,
   "metadata": {},
   "outputs": [],
   "source": [
    "# 分块+预处理\n",
    "# 将nums分成大小为k的区间\n",
    "# 当窗口左端滑动到k的倍数的时候 窗口最大值为该区间的最大值\n",
    "# 其它情况下区间左端点与右端点分别位于两个不同的区间\n",
    "# 窗口可由两部分组成 左端至所在区间末尾组成的后缀+右端至所在区间开始组成的前缀\n",
    "# 此时窗口的最大值为max(前缀区间最大值, 后缀区间最大值)\n",
    "def maxSlidingWindow(nums, k):\n",
    "    n = len(nums)\n",
    "    prefixMax, suffixMax = [0] * n, [0] * n\n",
    "    # 求每个索引的前缀区间最大值\n",
    "    for i in range(n):\n",
    "        if i % k == 0:\n",
    "            prefixMax[i] = nums[i]\n",
    "        else:\n",
    "            prefixMax[i] = max(prefixMax[i - 1], nums[i])\n",
    "    # 求每个索引的后缀区间最大值\n",
    "    for i in range(n - 1, -1, -1):\n",
    "        if i == n - 1 or (i + 1) % k == 0:\n",
    "            suffixMax[i] = nums[i]\n",
    "        else:\n",
    "            suffixMax[i] = max(suffixMax[i + 1], nums[i])\n",
    "    ans = [max(suffixMax[i], prefixMax[i + k - 1]) for i in range(n - k + 1)]\n",
    "    return ans"
   ]
  },
  {
   "cell_type": "code",
   "execution_count": null,
   "metadata": {},
   "outputs": [],
   "source": [
    "\n",
    "nums = [1,3,-1,-3,5,3,6,7]\n",
    "k = 3\n",
    "nums = [-7,-8,7,5,7,1,6,0]\n",
    "k = 4\n",
    "maxSlidingWindow(nums,k)"
   ]
  }
 ],
 "metadata": {
  "kernelspec": {
   "display_name": "base",
   "language": "python",
   "name": "python3"
  },
  "language_info": {
   "codemirror_mode": {
    "name": "ipython",
    "version": 3
   },
   "file_extension": ".py",
   "mimetype": "text/x-python",
   "name": "python",
   "nbconvert_exporter": "python",
   "pygments_lexer": "ipython3",
   "version": "3.12.3"
  }
 },
 "nbformat": 4,
 "nbformat_minor": 2
}
