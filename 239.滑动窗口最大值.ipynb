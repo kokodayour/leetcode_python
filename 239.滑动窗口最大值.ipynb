{
 "cells": [
  {
   "cell_type": "code",
   "execution_count": 1,
   "metadata": {},
   "outputs": [],
   "source": [
    "# 暴力解法 向右滑动窗口 取最大值\n",
    "def maxSlidingWindow(nums: list[int], k: int) -> list[int]: \n",
    "    ans = []\n",
    "    n = len(nums)\n",
    "    for i in range(n-k+1):\n",
    "        ans.append(max(nums[i:i+k]))\n",
    "    return ans"
   ]
  },
  {
   "cell_type": "code",
   "execution_count": null,
   "metadata": {},
   "outputs": [],
   "source": [
    "# 事实上我们并不需要每次都对窗口中的k个元素进行比较\n",
    "# 假设k=5时第4个元素最大 在下次滑动的时候只需要将第6个元素与第4个元素比较就行 其它元素不需要比较\n",
    "# 可以使用一个数据结构保留这个最大的元素\n",
    "# 如果这个最大元素在最左边被划走了怎么办?\n",
    "def maxSlidingWindow(nums: list[int], k: int) -> list[int]: \n",
    "    ans = []\n",
    "    window = []\n",
    "    n = len(nums)\n",
    "    # 初始化窗口\n",
    "    for i in range(k):\n",
    "        window.append(nums[i])\n",
    "    window.append(max(window))\n",
    "    for i in range(1,n-k+1):\n",
    "\n",
    "    return ans\n"
   ]
  },
  {
   "cell_type": "code",
   "execution_count": 3,
   "metadata": {},
   "outputs": [
    {
     "data": {
      "text/plain": [
       "[3, 3, 5, 5, 6, 7]"
      ]
     },
     "execution_count": 3,
     "metadata": {},
     "output_type": "execute_result"
    }
   ],
   "source": [
    "\n",
    "nums = [1,3,-1,-3,5,3,6,7]\n",
    "k = 3\n",
    "# nums = [1,-1]\n",
    "# k = 1\n",
    "maxSlidingWindow(nums,k)"
   ]
  }
 ],
 "metadata": {
  "kernelspec": {
   "display_name": "base",
   "language": "python",
   "name": "python3"
  },
  "language_info": {
   "codemirror_mode": {
    "name": "ipython",
    "version": 3
   },
   "file_extension": ".py",
   "mimetype": "text/x-python",
   "name": "python",
   "nbconvert_exporter": "python",
   "pygments_lexer": "ipython3",
   "version": "3.12.3"
  }
 },
 "nbformat": 4,
 "nbformat_minor": 2
}
