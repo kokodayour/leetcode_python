{
 "cells": [
  {
   "cell_type": "code",
   "execution_count": 5,
   "metadata": {},
   "outputs": [],
   "source": [
    "def lengthOfLongestSubstring(s: str) -> int: # 暴力解法\n",
    "    ans = 0\n",
    "    n = len(s)\n",
    "    substr = []\n",
    "    for i in range(n):\n",
    "        substr.append(s[i])\n",
    "        for j in range(i + 1, n):\n",
    "            if s[j] not in substr:\n",
    "                substr.append(s[j])\n",
    "            else:\n",
    "                break\n",
    "        ans = max(ans, len(substr))\n",
    "        substr = []\n",
    "    return ans"
   ]
  },
  {
   "cell_type": "code",
   "execution_count": 1,
   "metadata": {},
   "outputs": [],
   "source": [
    "def lengthOfLongestSubstring(s: str) ->int: # 滑动窗口\n",
    "    max_len = 0 # 最大子串长度\n",
    "    left = 0 # 滑动窗口的左边界\n",
    "    lookup = set() # 滑动窗口\n",
    "    for right in range(len(s)):\n",
    "        # 一直循环, 直到左边去除了和右边重复的元素, 同时更新cur_len\n",
    "        while s[right] in lookup:\n",
    "            lookup.remove(s[left])\n",
    "            left += 1\n",
    "        max_len = max(max_len, right - left + 1)\n",
    "        lookup.add(s[right])\n",
    "    return max_len"
   ]
  },
  {
   "cell_type": "code",
   "execution_count": 11,
   "metadata": {},
   "outputs": [],
   "source": [
    "def lengthOfLongestSubstring(s: str) -> int: # 滑动窗口的升级版 双指针解法\n",
    "    # 滑动窗口在while语句中删除元素时 又进行了一次迭代 目的是为了找到与s[right]相同的元素\n",
    "    # 可以维护一个表 记录每个元素出现的位置 不再需要while迭代 直接跳转到相应位置 同时也不需要再维护窗口 两指针所夹即为窗口\n",
    "    left = -1\n",
    "    d = {}\n",
    "    Max = 0\n",
    "    for right, elem in enumerate(s):\n",
    "        # d[elem]是字符串元素在表中对应的数字\n",
    "        if elem in d:\n",
    "            left = d[elem] # 更新left\n",
    "            Max = max(right-left, Max)\n",
    "        d[elem] = right\n",
    "    return Max"
   ]
  },
  {
   "cell_type": "code",
   "execution_count": 12,
   "metadata": {},
   "outputs": [
    {
     "data": {
      "text/plain": [
       "3"
      ]
     },
     "execution_count": 12,
     "metadata": {},
     "output_type": "execute_result"
    }
   ],
   "source": [
    "s = \"abcabcbb\"\n",
    "# s = \"pwwkew\"\n",
    "# s = 'bbbb'\n",
    "# s = \"\"\n",
    "lengthOfLongestSubstring(s)"
   ]
  }
 ],
 "metadata": {
  "kernelspec": {
   "display_name": "base",
   "language": "python",
   "name": "python3"
  },
  "language_info": {
   "codemirror_mode": {
    "name": "ipython",
    "version": 3
   },
   "file_extension": ".py",
   "mimetype": "text/x-python",
   "name": "python",
   "nbconvert_exporter": "python",
   "pygments_lexer": "ipython3",
   "version": "3.10.10"
  }
 },
 "nbformat": 4,
 "nbformat_minor": 2
}
