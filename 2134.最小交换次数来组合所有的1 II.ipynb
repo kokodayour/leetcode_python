{
 "cells": [
  {
   "cell_type": "code",
   "execution_count": 13,
   "metadata": {},
   "outputs": [],
   "source": [
    "# 滑动窗口问题 将连续的0元素窗口进行滑动 统计窗口中0出现的次数\n",
    "def minSwaps(nums: list[int]) -> int:\n",
    "    ans = n = len(nums) - sum(nums)\n",
    "    # 由于窗口长度未知 这里需要判断 否则下面的窗口左索引可能会超过范围\n",
    "    if n < 2:\n",
    "        return 0\n",
    "    temp = sum(nums[-n+1:])\n",
    "    for i in range(len(nums)):\n",
    "        temp += nums[i]\n",
    "        ans = min(ans, temp)\n",
    "        if nums[i-n+1] == 1:\n",
    "            temp -= 1\n",
    "    return ans"
   ]
  },
  {
   "cell_type": "code",
   "execution_count": 14,
   "metadata": {},
   "outputs": [
    {
     "data": {
      "text/plain": [
       "2"
      ]
     },
     "execution_count": 14,
     "metadata": {},
     "output_type": "execute_result"
    }
   ],
   "source": [
    "nums = [0,1,0,1,1,0,0]\n",
    "nums = [0,1,1,1,0,0,1,1,0]\n",
    "minSwaps(nums)"
   ]
  }
 ],
 "metadata": {
  "kernelspec": {
   "display_name": "base",
   "language": "python",
   "name": "python3"
  },
  "language_info": {
   "codemirror_mode": {
    "name": "ipython",
    "version": 3
   },
   "file_extension": ".py",
   "mimetype": "text/x-python",
   "name": "python",
   "nbconvert_exporter": "python",
   "pygments_lexer": "ipython3",
   "version": "3.12.3"
  }
 },
 "nbformat": 4,
 "nbformat_minor": 2
}
