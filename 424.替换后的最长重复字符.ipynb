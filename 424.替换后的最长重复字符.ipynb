{
 "cells": [
  {
   "cell_type": "code",
   "execution_count": 23,
   "metadata": {},
   "outputs": [],
   "source": [
    "def characterReplacement(s: str, k: int) -> int:\n",
    "    freq = {}\n",
    "    left = 0\n",
    "    ans = 1\n",
    "    for right,elem in enumerate(s):\n",
    "        freq[elem] = freq.get(elem,0)+1\n",
    "        while sum(freq.values()) - max(freq.values()) > k:\n",
    "            freq[s[left]] -= 1\n",
    "            left += 1\n",
    "            if freq[s[left]] == 0:\n",
    "                del freq[s[left]]\n",
    "        ans = max(right-left+1, ans)\n",
    "    return ans"
   ]
  },
  {
   "cell_type": "code",
   "execution_count": 25,
   "metadata": {},
   "outputs": [],
   "source": [
    "# 一开始比较的好奇为什么结果是最后一个滑窗的长度? 最优的滑窗可以出现在之前的任何位置\n",
    "# 另外为什么在移动左端点的时候不更新最大值?\n",
    "# 在滑动过程中首先会形成一个满足条件的初始滑窗\n",
    "# 如果下次滑动不满足条件则移动左端点一次 但为什么只移动一次? 移动一次之后就满足条件了吗?\n",
    "# 奇妙之处在于我不需要让它满足条件 我最后需要的是窗口的长度 每次循环即使不满足条件 窗口右滑1左滑1不会改变窗口长度\n",
    "# 未来的最优解一定是第二个if语句块不执行 右滑但左不滑\n",
    "# 至于为什么不更新最大值 之前最优解的窗口长度和出现最多元素的次数maximum固定了 只有当maximum增加了才会更新最优解\n",
    "# 而滑动过程中的maximum一定不大于之前最优解时的maximum\n",
    "from collections import defaultdict\n",
    "def characterReplacement(s: str, k: int) -> int:\n",
    "    maximum = 0\n",
    "    counter = defaultdict(int)\n",
    "    left = 0\n",
    "    for right in range(len(s)):\n",
    "        c = s[right]\n",
    "        counter[c] += 1\n",
    "        if counter[c] > maximum:\n",
    "            maximum = counter[c]\n",
    "        if right - left + 1 > k + maximum:\n",
    "            counter[s[left]] -= 1\n",
    "            left += 1\n",
    "    return right - left + 1"
   ]
  },
  {
   "cell_type": "code",
   "execution_count": 24,
   "metadata": {},
   "outputs": [
    {
     "data": {
      "text/plain": [
       "4"
      ]
     },
     "execution_count": 24,
     "metadata": {},
     "output_type": "execute_result"
    }
   ],
   "source": [
    "s = \"AABABBA\"\n",
    "k = 1\n",
    "characterReplacement(s, k)"
   ]
  }
 ],
 "metadata": {
  "kernelspec": {
   "display_name": "base",
   "language": "python",
   "name": "python3"
  },
  "language_info": {
   "codemirror_mode": {
    "name": "ipython",
    "version": 3
   },
   "file_extension": ".py",
   "mimetype": "text/x-python",
   "name": "python",
   "nbconvert_exporter": "python",
   "pygments_lexer": "ipython3",
   "version": "3.12.3"
  }
 },
 "nbformat": 4,
 "nbformat_minor": 2
}
