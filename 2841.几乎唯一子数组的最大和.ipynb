{
 "cells": [
  {
   "cell_type": "code",
   "execution_count": null,
   "metadata": {},
   "outputs": [],
   "source": [
    "def maxSum(nums: list[int], m: int, k: int) -> int:\n",
    "    temp_arr = nums[:k]\n",
    "    ans = sum(temp_arr) if len(set(temp_arr)) >= m else 0\n",
    "    for in_ in nums[k:]:\n",
    "        temp_arr.append(in_)\n",
    "        temp_arr.pop(0)\n",
    "        temp = sum(temp_arr) if (len(set(temp_arr))) >= m else 0\n",
    "        ans = max(ans, temp)\n",
    "    return ans       "
   ]
  },
  {
   "cell_type": "code",
   "execution_count": 20,
   "metadata": {},
   "outputs": [],
   "source": [
    "from collections import Counter\n",
    "def maxSum(nums, m, k):\n",
    "    c = Counter(nums[:k-1])\n",
    "    temp = sum(nums[:k-1])\n",
    "    ans = 0\n",
    "    for in_, out in zip(nums[k-1:],nums):\n",
    "        temp += in_\n",
    "        c[in_] += 1\n",
    "        if len(c) >= m:\n",
    "            ans = max(ans, temp)\n",
    "        temp -= out\n",
    "        c[out] -= 1\n",
    "        if c[out] == 0:\n",
    "            del c[out]\n",
    "        return ans"
   ]
  },
  {
   "cell_type": "code",
   "execution_count": null,
   "metadata": {},
   "outputs": [
    {
     "data": {
      "text/plain": [
       "18"
      ]
     },
     "execution_count": 22,
     "metadata": {},
     "output_type": "execute_result"
    }
   ],
   "source": [
    "nums = [2,6,7,3,1,7]\n",
    "m = 3\n",
    "k = 4\n",
    "nums = [5,9,9,2,4,5,4]\n",
    "m = 1\n",
    "k = 3\n",
    "maxSum(nums,m,k)"
   ]
  }
 ],
 "metadata": {
  "kernelspec": {
   "display_name": "base",
   "language": "python",
   "name": "python3"
  },
  "language_info": {
   "codemirror_mode": {
    "name": "ipython",
    "version": 3
   },
   "file_extension": ".py",
   "mimetype": "text/x-python",
   "name": "python",
   "nbconvert_exporter": "python",
   "pygments_lexer": "ipython3",
   "version": "3.10.10"
  }
 },
 "nbformat": 4,
 "nbformat_minor": 2
}
