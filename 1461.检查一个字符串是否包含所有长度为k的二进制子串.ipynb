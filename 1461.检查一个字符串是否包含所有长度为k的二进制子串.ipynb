{
 "cells": [
  {
   "cell_type": "code",
   "execution_count": 13,
   "metadata": {},
   "outputs": [],
   "source": [
    "# 先生成二进制字符串 在滑动字符串窗口 判断窗口元素是否在二进制字符串集合中\n",
    "def hasAllCodes(s: str, k: int) -> bool:\n",
    "    # 列表生成式只能生成列表 不能修改列表\n",
    "    binstring = [bin(i)[2:].zill(k) for i in range(2**k)]\n",
    "    for i in range(k, len(s)+1):\n",
    "        if s[i-k:i] in binstring:\n",
    "            binstring.remove(s[i-k:i])\n",
    "    return True if binstring == [] else False"
   ]
  },
  {
   "cell_type": "code",
   "execution_count": null,
   "metadata": {},
   "outputs": [],
   "source": [
    "# 在处理二进制数时 先转为十进制数\n",
    "def hasAllCodes(s, k):\n",
    "    subnum = [i for i in range(1, len(s)+1)]\n",
    "    for i in range(k, len(s)+1):\n",
    "        if int(s[i-k:i], 2) in subnum:\n",
    "            subnum.remove(int(s[i-k:i], 2))\n",
    "    return True if subnum == [] else False"
   ]
  },
  {
   "cell_type": "code",
   "execution_count": 16,
   "metadata": {},
   "outputs": [
    {
     "data": {
      "text/plain": [
       "False"
      ]
     },
     "execution_count": 16,
     "metadata": {},
     "output_type": "execute_result"
    }
   ],
   "source": [
    "s = \"00110110\"\n",
    "k = 2\n",
    "s = \"0110\"\n",
    "k = 2\n",
    "hasAllCodes(s,k)"
   ]
  },
  {
   "cell_type": "code",
   "execution_count": 17,
   "metadata": {},
   "outputs": [
    {
     "data": {
      "text/plain": [
       "3"
      ]
     },
     "execution_count": 17,
     "metadata": {},
     "output_type": "execute_result"
    }
   ],
   "source": [
    "int('11',2)"
   ]
  }
 ],
 "metadata": {
  "kernelspec": {
   "display_name": "base",
   "language": "python",
   "name": "python3"
  },
  "language_info": {
   "codemirror_mode": {
    "name": "ipython",
    "version": 3
   },
   "file_extension": ".py",
   "mimetype": "text/x-python",
   "name": "python",
   "nbconvert_exporter": "python",
   "pygments_lexer": "ipython3",
   "version": "3.10.10"
  }
 },
 "nbformat": 4,
 "nbformat_minor": 2
}
