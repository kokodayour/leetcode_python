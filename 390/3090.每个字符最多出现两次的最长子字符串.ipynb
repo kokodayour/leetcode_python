{
 "cells": [
  {
   "cell_type": "code",
   "execution_count": null,
   "metadata": {},
   "outputs": [],
   "source": [
    "# 创建一个windows滑动窗口 用于存储子串\n",
    "# 创建一个字符字典 存储子串字符元素的出现次数\n",
    "# 每次循环往子串中添加一个元素 并进行判断\n",
    "# 查询字符字典 如果字符元素的出现次数大于两次时 则从头开始删元素\n",
    "# 并且更新字符字典 直到字符元素出现的次数不大于两次\n",
    "# 通俗地讲 如果新加了一个'b'使得子串'b'元素的个数超过了两个 则从左往右删 直到删除一个'b'为止\n",
    "# 同时更新字符字典 如果删了一个'a'的话 字典中'a'的个数要减1 否则下次只能放一个'a'进去了\n",
    "def maximumLengthSubstring(s: str) -> int:\n",
    "    windows = []\n",
    "    element_num = {}\n",
    "    result = 0\n",
    "    for i in s:\n",
    "        windows.append(i)\n",
    "        # if element_num.get(i) == None:\n",
    "        #     element_num[i] = 1\n",
    "        # else:\n",
    "        #     element_num[i] += 1\n",
    "        element_num[i] = element_num.get(i, 0) + 1\n",
    "        while element_num[i] > 2:\n",
    "            element_num[windows[0]] -= 1\n",
    "            windows.pop(0)\n",
    "        result = max(result, len(windows))\n",
    "    return result"
   ]
  },
  {
   "cell_type": "code",
   "execution_count": 27,
   "metadata": {},
   "outputs": [],
   "source": [
    "# 与其做成滑动窗口问题 倒不如做成双指针问题 毕竟我只需要窗口最左端的元素\n",
    "def maximumLengthSubstring(s: str) -> int:\n",
    "    result, left = 0, 0\n",
    "    element_num = {}\n",
    "    for right, elem in enumerate(s):\n",
    "        element_num[elem] = element_num.get(elem, 0) + 1\n",
    "        while element_num[elem] > 2:\n",
    "            element_num[s[left]] -= 1\n",
    "            left += 1\n",
    "        result = max(result, right - left + 1)\n",
    "    return result"
   ]
  },
  {
   "cell_type": "code",
   "execution_count": 28,
   "metadata": {},
   "outputs": [
    {
     "data": {
      "text/plain": [
       "4"
      ]
     },
     "execution_count": 28,
     "metadata": {},
     "output_type": "execute_result"
    }
   ],
   "source": [
    "s = \"bcbbbcba\"\n",
    "maximumLengthSubstring(s)"
   ]
  }
 ],
 "metadata": {
  "kernelspec": {
   "display_name": "base",
   "language": "python",
   "name": "python3"
  },
  "language_info": {
   "codemirror_mode": {
    "name": "ipython",
    "version": 3
   },
   "file_extension": ".py",
   "mimetype": "text/x-python",
   "name": "python",
   "nbconvert_exporter": "python",
   "pygments_lexer": "ipython3",
   "version": "3.10.10"
  }
 },
 "nbformat": 4,
 "nbformat_minor": 2
}
