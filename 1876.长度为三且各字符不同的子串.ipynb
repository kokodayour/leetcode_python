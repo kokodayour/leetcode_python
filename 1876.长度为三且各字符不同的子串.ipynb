{
 "cells": [
  {
   "cell_type": "code",
   "execution_count": 3,
   "metadata": {},
   "outputs": [],
   "source": [
    "def countGoodSubstrings(s: str) -> int:\n",
    "    ans = 0\n",
    "    cnt = {}\n",
    "    for i in range(len(s)):\n",
    "        cnt[s[i]] = cnt.get(s[i],0) + 1\n",
    "        if i < 2:\n",
    "            continue\n",
    "        if len(cnt) == 3:\n",
    "            ans += 1\n",
    "        cnt[s[i-2]] -= 1\n",
    "        if cnt[s[i-2]] == 0:\n",
    "            del cnt[s[i-2]]\n",
    "    return ans"
   ]
  },
  {
   "cell_type": "code",
   "execution_count": 5,
   "metadata": {},
   "outputs": [
    {
     "data": {
      "text/plain": [
       "4"
      ]
     },
     "execution_count": 5,
     "metadata": {},
     "output_type": "execute_result"
    }
   ],
   "source": [
    "s = \"xyzzaz\"\n",
    "s = \"aababcabc\"\n",
    "countGoodSubstrings(s)"
   ]
  }
 ],
 "metadata": {
  "kernelspec": {
   "display_name": "base",
   "language": "python",
   "name": "python3"
  },
  "language_info": {
   "codemirror_mode": {
    "name": "ipython",
    "version": 3
   },
   "file_extension": ".py",
   "mimetype": "text/x-python",
   "name": "python",
   "nbconvert_exporter": "python",
   "pygments_lexer": "ipython3",
   "version": "3.12.3"
  }
 },
 "nbformat": 4,
 "nbformat_minor": 2
}
